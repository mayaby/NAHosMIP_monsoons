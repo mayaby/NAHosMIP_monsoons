{
 "cells": [
  {
   "cell_type": "markdown",
   "id": "4f11cc95",
   "metadata": {},
   "source": [
    "# Utilities"
   ]
  },
  {
   "cell_type": "code",
   "execution_count": 11,
   "id": "4fcf4641",
   "metadata": {
    "ExecuteTime": {
     "end_time": "2024-08-05T15:52:55.377739Z",
     "start_time": "2024-08-05T15:52:55.354926Z"
    },
    "init_cell": true
   },
   "outputs": [],
   "source": [
    "import numpy as np\n",
    "import matplotlib.pyplot as plt\n",
    "from jupyterthemes import jtplot\n",
    "import matplotlib as mpl\n",
    "from functions import *\n",
    "import pandas as pd\n",
    "pd.options.display.float_format = '{:,.2f}'.format\n",
    "import cartopy.crs as ccrs\n",
    "import matplotlib.gridspec as gridspec\n",
    "import cartopy\n",
    "import xarray as xr\n",
    "from shapely.geometry.polygon import LinearRing\n",
    "from matplotlib import colors\n",
    "import pickle\n",
    "jtplot.style(context='paper', fscale=1.4, spines=True, grid=False, ticks=True,gridlines='--')\n",
    "\n",
    "fontsize=16\n",
    "mpl.rcParams['xtick.direction'] = 'in'\n",
    "mpl.rcParams['ytick.direction'] = 'in'\n",
    "mpl.rcParams['xtick.top'] = True\n",
    "mpl.rcParams['ytick.right'] = True\n",
    "\n",
    "mpl.rcParams['font.size'] = 16\n",
    "mpl.rcParams['legend.fontsize'] = 'large'\n",
    "mpl.rcParams['figure.titlesize'] = 'medium'\n",
    "mpl.rcParams['axes.labelsize']= 'x-large'\n",
    "mpl.rcParams['figure.facecolor']='white'\n",
    "\n",
    "mpl.rcParams['font.family'] = 'sans-serif'\n",
    "mpl.rcParams['font.sans-serif'] = ['Arial']\n",
    "hfont = {'fontname':'Arial'}\n",
    "\n",
    "mpl.rcParams['text.latex.preamble']= r'\\usepackage{amsmath}'\n",
    "mpl.rcParams['axes.prop_cycle'] = mpl.cycler(color=['#1b9e77','#d95f02','#7570b3','#e7298a','#66a61e','#e6ab02','#a6761d','#666666']) "
   ]
  },
  {
   "cell_type": "code",
   "execution_count": 12,
   "id": "944138f3",
   "metadata": {
    "ExecuteTime": {
     "end_time": "2024-08-05T15:52:55.555984Z",
     "start_time": "2024-08-05T15:52:55.552244Z"
    },
    "init_cell": true
   },
   "outputs": [],
   "source": [
    "months = ['Jan','Feb','Mar','Apr','May','Jun','Jul','Aug','Sep','Oct','Nov','Dec']"
   ]
  },
  {
   "cell_type": "code",
   "execution_count": 13,
   "id": "7beb0274",
   "metadata": {
    "ExecuteTime": {
     "end_time": "2024-08-05T15:52:55.748176Z",
     "start_time": "2024-08-05T15:52:55.744490Z"
    },
    "init_cell": true
   },
   "outputs": [],
   "source": [
    "model_names = ['HadGEM3-GC3-1MM','CanESM5','CESM2','IPSL-CM6A-LR']\n",
    "lat_keys = [False,True,True,True]"
   ]
  },
  {
   "cell_type": "code",
   "execution_count": 14,
   "id": "901d0136",
   "metadata": {
    "ExecuteTime": {
     "end_time": "2024-08-05T15:52:55.886763Z",
     "start_time": "2024-08-05T15:52:55.884247Z"
    },
    "init_cell": true
   },
   "outputs": [],
   "source": [
    "tos_keys = dict(zip(model_names,['tos','tos','TS','tos']))\n",
    "prcp_keys = dict(zip(model_names,['precipitation_flux','pr','PRECC','pr']))"
   ]
  },
  {
   "cell_type": "code",
   "execution_count": 15,
   "id": "5918c316",
   "metadata": {
    "ExecuteTime": {
     "end_time": "2024-08-05T15:52:56.067507Z",
     "start_time": "2024-08-05T15:52:56.062701Z"
    },
    "init_cell": true
   },
   "outputs": [],
   "source": [
    "aidcs = [[0,80*12],[0,80*12],[0+11,80*12+11],[0,80*12]]\n",
    "cidcs = [[20*12,100*12],[20*12,100*12],[100*12+11,180*12+11],[60*12,140*12]]\n",
    "aslices1 = dict(zip(model_names,aidcs))\n",
    "cslices1 = dict(zip(model_names,cidcs))\n",
    "aslices = aslices1\n",
    "cslices = cslices1\n",
    "aslicesm = aslices1\n",
    "cslicesm = cslices1"
   ]
  },
  {
   "cell_type": "code",
   "execution_count": 16,
   "id": "dbb8a766",
   "metadata": {
    "ExecuteTime": {
     "end_time": "2024-08-05T15:52:56.267758Z",
     "start_time": "2024-08-05T15:52:56.264314Z"
    },
    "init_cell": true
   },
   "outputs": [],
   "source": [
    "aidcs = [[0,80],[0,80],[1,81],[0,80]]\n",
    "cidcs = [[20,100],[20,100],[101,181],[60,140]]\n",
    "aslicesy = dict(zip(model_names,aidcs))\n",
    "cslicesy = dict(zip(model_names,cidcs))"
   ]
  },
  {
   "cell_type": "code",
   "execution_count": 17,
   "id": "f2c26a8d",
   "metadata": {
    "ExecuteTime": {
     "end_time": "2024-08-05T15:52:56.424748Z",
     "start_time": "2024-08-05T15:52:56.421332Z"
    },
    "init_cell": true
   },
   "outputs": [],
   "source": [
    "aidcs = [[0,-1],[0,-1],[0,-1],[0,-1]]\n",
    "cidcs = [[0,-1],[0,-1],[0,-1],[0,-1]]\n",
    "aslices_full = dict(zip(model_names,aidcs))\n",
    "cslices_full = dict(zip(model_names,cidcs))"
   ]
  },
  {
   "cell_type": "code",
   "execution_count": 18,
   "id": "3ce15352",
   "metadata": {
    "ExecuteTime": {
     "end_time": "2024-08-05T15:52:56.632938Z",
     "start_time": "2024-08-05T15:52:56.630216Z"
    },
    "init_cell": true
   },
   "outputs": [],
   "source": [
    "extent_boxes = {'am1': [-20, -90, -30, 16],\n",
    "                'am3': [-20, -90, -30, 16],\n",
    " 'wam4': [40, -25, -15, 30],\n",
    " 'ism1': [65, 90, 0, 30],\n",
    " 'easm2': [105, 145, 5, 45]}"
   ]
  },
  {
   "cell_type": "code",
   "execution_count": 19,
   "id": "bef58c61",
   "metadata": {
    "ExecuteTime": {
     "end_time": "2024-08-05T15:52:56.838239Z",
     "start_time": "2024-08-05T15:52:56.831526Z"
    },
    "init_cell": true
   },
   "outputs": [],
   "source": [
    "boxes_latlon = [[285-360,317.5-360,-15,-5,],\n",
    "    [295-360,315-360,-15,-5],\n",
    "    [-75,-60,0,10],\n",
    "    [-75,-50,-10,0],\n",
    "    [-50,-40,-15,-5],\n",
    "    [-20,20,9,20],\n",
    "    [-20,20,0,10],\n",
    "    [-20,20,5,15],\n",
    "   [-75,-55,-5,5],\n",
    "   [-20,25,5,20],\n",
    "   [70,85,5,25],\n",
    "    [110,140,10,40]]\n",
    "boxes_dict = {\n",
    "    'am1': [285,317.5,-15,-5],\n",
    "    'am2' :[295,315,-15,-5],\n",
    "     'pam1':   [360-75,360-60,0,10],\n",
    "    'pam2': [360-75,360-50,-10,0],\n",
    "    'pam3': [360-50,360-40,-15,-5],\n",
    "    'wam1': [360-20,360+20,9,20],\n",
    "    'wam2': [360-20,360+20,0,10],\n",
    "    'wam3': [360-20,360+20,5,15],\n",
    "    'am3':[360-75,360-55,-5,5],\n",
    "    'wam4':[360-20,25,5,20],\n",
    "    'ism1':[70,85,5,25],\n",
    "    'easm2':[110,140,10,40]\n",
    "}"
   ]
  },
  {
   "cell_type": "code",
   "execution_count": 20,
   "id": "a7b36f08",
   "metadata": {
    "ExecuteTime": {
     "end_time": "2024-08-05T15:52:57.021839Z",
     "start_time": "2024-08-05T15:52:57.019250Z"
    }
   },
   "outputs": [],
   "source": [
    "extent_latlon = {\n",
    "            'am':[-20, -85,-30, 30],\n",
    "            'af':[35, -30,-30, 30],\n",
    "            'in':[60, 100,0, 30],\n",
    "            'as':[100, 150,15,50]}"
   ]
  },
  {
   "cell_type": "code",
   "execution_count": 21,
   "id": "76b05392",
   "metadata": {
    "ExecuteTime": {
     "end_time": "2024-08-05T15:52:57.216754Z",
     "start_time": "2024-08-05T15:52:57.214344Z"
    },
    "init_cell": true
   },
   "outputs": [],
   "source": [
    "labels = ['(a)','(b)','(c)','(d)','(e)','(f)','(g)','(h)','(i)','(j)','(k)','(l)','(m)','(n)','(o)','(p)']"
   ]
  },
  {
   "cell_type": "code",
   "execution_count": 22,
   "id": "8fa2b77a",
   "metadata": {
    "ExecuteTime": {
     "end_time": "2024-08-05T15:52:57.420527Z",
     "start_time": "2024-08-05T15:52:57.412562Z"
    }
   },
   "outputs": [],
   "source": [
    "# the way pyplot plots contourf hatches is a by taking each gridcell as a dot and \n",
    "# connecting them to form areas, but what we want is each grid square to be filled \n",
    "# if it matches/is significant/etc., so we need to shift the grid and fill in the appropriate squares\n",
    "# NB: this function is not completely generalized, and some details have to be changed for different grids\n",
    "def get_shifted_stip(data,lats, lons,lat_bnds,lon_bnds):\n",
    "    shifted_sig = np.full((len(lats),len(lons)+1),np.nan)\n",
    "    for i, lat in enumerate(lats):\n",
    "        for j, lon in enumerate(lons):\n",
    "            try:\n",
    "                x = data.sel(latitude=lat,longitude=lon).values\n",
    "            except:\n",
    "                x = data.sel(lat=lat,lon=lon).values\n",
    "            if not np.isnan(x):\n",
    "                if (i!=len(lats)-1) & (j!=len(lons)):\n",
    "                    shifted_sig[i,j]=x\n",
    "                    shifted_sig[i,j+1]=x\n",
    "                    shifted_sig[i+1,j]=x\n",
    "                    shifted_sig[i+1,j+1]=x\n",
    "                else:\n",
    "                    if (i==len(lats)-1) & (j!=len(lons)):\n",
    "                        shifted_sig[0,j]=x\n",
    "                        shifted_sig[0,j+1]=x\n",
    "                    elif (j==len(lons))&(i!=len(lats)-1):\n",
    "                        shifted_sig[i,0]=x\n",
    "                        shifted_sig[i+1,0]=x\n",
    "                    else:\n",
    "                        print(i,j)\n",
    "                        shifted_sig[0,0]=x\n",
    "    \n",
    "    sig = xr.Dataset(\n",
    "            data_vars = dict(data=(['lat','lon'],shifted_sig)),\n",
    "            coords = dict(\n",
    "                    lat = xr.DataArray(lat_bnds, dims=\"lat\", coords=dict(lat=(\"lat\", lat_bnds))),\n",
    "                    lon = xr.DataArray(np.append(Clon_bnds, 360-1.40625), dims=\"lon\", coords=dict(lon=(\"lon\", np.append(Clon_bnds, 360-1.40625))))))\n",
    "    return sig"
   ]
  },
  {
   "cell_type": "markdown",
   "id": "0a7be211",
   "metadata": {},
   "source": [
    "# agreement with HadGEM"
   ]
  },
  {
   "cell_type": "markdown",
   "id": "d427b625",
   "metadata": {},
   "source": [
    "## annual mean"
   ]
  },
  {
   "cell_type": "code",
   "execution_count": 28,
   "id": "3b709459",
   "metadata": {
    "ExecuteTime": {
     "end_time": "2024-08-05T15:56:25.905671Z",
     "start_time": "2024-08-05T15:56:10.049968Z"
    }
   },
   "outputs": [
    {
     "name": "stderr",
     "output_type": "stream",
     "text": [
      "/home/mayayami/.conda/envs/main/lib/python3.9/site-packages/xarray/coding/times.py:699: SerializationWarning: Unable to decode time axis into full numpy.datetime64 objects, continuing using cftime.datetime objects instead, reason: dates out of range\n",
      "  dtype = _decode_cf_datetime_dtype(data, units, calendar, self.use_cftime)\n",
      "/home/mayayami/.conda/envs/main/lib/python3.9/site-packages/xarray/coding/times.py:699: SerializationWarning: Unable to decode time axis into full numpy.datetime64 objects, continuing using cftime.datetime objects instead, reason: dates out of range\n",
      "  dtype = _decode_cf_datetime_dtype(data, units, calendar, self.use_cftime)\n",
      "/home/mayayami/.conda/envs/main/lib/python3.9/site-packages/xarray/core/indexing.py:524: SerializationWarning: Unable to decode time axis into full numpy.datetime64 objects, continuing using cftime.datetime objects instead, reason: dates out of range\n",
      "  return np.asarray(array[self.key], dtype=None)\n"
     ]
    }
   ],
   "source": [
    "diff_prcp_Cgrid = {}\n",
    "\n",
    "for model in model_names:\n",
    "    adata = xr.open_dataset('/p/tmp/mayayami/NAHosMIP/{}/vars/aprcpm_Cgrid.nc'.format(model))[prcp_keys[model]][aslicesm[model][0]:aslicesm[model][1]]\n",
    "    cdata = xr.open_dataset('/p/tmp/mayayami/NAHosMIP/{}/vars/cprcpm_Cgrid.nc'.format(model))[prcp_keys[model]][cslicesm[model][0]:cslicesm[model][1]]\n",
    "\n",
    "    diff_prcp_Cgrid[model] = (cdata.mean(dim='time'))-(adata.mean(dim='time'))\n",
    "ens_mean_diff = (diff_prcp_Cgrid[model_names[0]]+diff_prcp_Cgrid[model_names[1]]+diff_prcp_Cgrid[model_names[2]]+diff_prcp_Cgrid[model_names[3]])/4\n",
    "\n",
    "hsign = np.sign(diff_prcp_Cgrid['HadGEM3-GC3-1MM'])"
   ]
  },
  {
   "cell_type": "code",
   "execution_count": 25,
   "id": "bdd4c30f",
   "metadata": {
    "ExecuteTime": {
     "end_time": "2024-08-05T15:55:14.414397Z",
     "start_time": "2024-08-05T15:55:12.166008Z"
    }
   },
   "outputs": [
    {
     "name": "stderr",
     "output_type": "stream",
     "text": [
      "/home/mayayami/.conda/envs/main/lib/python3.9/site-packages/xarray/coding/times.py:699: SerializationWarning: Unable to decode time axis into full numpy.datetime64 objects, continuing using cftime.datetime objects instead, reason: dates out of range\n",
      "  dtype = _decode_cf_datetime_dtype(data, units, calendar, self.use_cftime)\n",
      "/home/mayayami/.conda/envs/main/lib/python3.9/site-packages/xarray/coding/times.py:699: SerializationWarning: Unable to decode time axis into full numpy.datetime64 objects, continuing using cftime.datetime objects instead, reason: dates out of range\n",
      "  dtype = _decode_cf_datetime_dtype(data, units, calendar, self.use_cftime)\n",
      "/home/mayayami/.conda/envs/main/lib/python3.9/site-packages/xarray/core/indexing.py:524: SerializationWarning: Unable to decode time axis into full numpy.datetime64 objects, continuing using cftime.datetime objects instead, reason: dates out of range\n",
      "  return np.asarray(array[self.key], dtype=None)\n"
     ]
    }
   ],
   "source": [
    "adata = xr.open_dataset('/p/tmp/mayayami/NAHosMIP/{}/vars/aprcpm_Cgrid.nc'.format(model))\n",
    "Clon_bnds = adata.lon_bnds.values[:,0]\n",
    "Clat_bnds = adata.lat_bnds.values[:,0]"
   ]
  },
  {
   "cell_type": "code",
   "execution_count": 18,
   "id": "1cde38a6",
   "metadata": {
    "ExecuteTime": {
     "end_time": "2024-08-05T15:47:05.374478Z",
     "start_time": "2024-08-05T15:47:05.335217Z"
    }
   },
   "outputs": [],
   "source": [
    "match = diff_prcp_Cgrid['HadGEM3-GC3-1MM'].where(\n",
    "                      (np.sign(diff_prcp_Cgrid['CanESM5'])==hsign)&\n",
    "                    (np.sign(diff_prcp_Cgrid['CESM2'])==hsign)&\n",
    "                    (np.sign(diff_prcp_Cgrid['IPSL-CM6A-LR'])==hsign)\n",
    ")"
   ]
  },
  {
   "cell_type": "code",
   "execution_count": 20,
   "id": "1576f77a",
   "metadata": {
    "ExecuteTime": {
     "end_time": "2024-08-05T15:47:12.902850Z",
     "start_time": "2024-08-05T15:47:06.696181Z"
    }
   },
   "outputs": [],
   "source": [
    "sig = get_shifted_stip(match,match.lat,match.lon,Clat_bnds,Clon_bnds)"
   ]
  },
  {
   "cell_type": "code",
   "execution_count": 21,
   "id": "352831e2",
   "metadata": {
    "ExecuteTime": {
     "end_time": "2024-08-05T15:47:44.493772Z",
     "start_time": "2024-08-05T15:47:40.668581Z"
    }
   },
   "outputs": [],
   "source": [
    "sig.to_netcdf('/p/tmp/mayayami/NAHosMIP/shifted_sigs/all_sign_match.nc')"
   ]
  },
  {
   "cell_type": "markdown",
   "id": "3b2992f9",
   "metadata": {},
   "source": [
    "## seasonal"
   ]
  },
  {
   "cell_type": "code",
   "execution_count": 23,
   "id": "18406b8d",
   "metadata": {
    "ExecuteTime": {
     "end_time": "2024-08-05T15:53:24.581200Z",
     "start_time": "2024-08-05T15:53:05.879386Z"
    }
   },
   "outputs": [
    {
     "name": "stderr",
     "output_type": "stream",
     "text": [
      "/home/mayayami/.conda/envs/main/lib/python3.9/site-packages/xarray/coding/times.py:699: SerializationWarning: Unable to decode time axis into full numpy.datetime64 objects, continuing using cftime.datetime objects instead, reason: dates out of range\n",
      "  dtype = _decode_cf_datetime_dtype(data, units, calendar, self.use_cftime)\n",
      "/home/mayayami/.conda/envs/main/lib/python3.9/site-packages/xarray/coding/times.py:699: SerializationWarning: Unable to decode time axis into full numpy.datetime64 objects, continuing using cftime.datetime objects instead, reason: dates out of range\n",
      "  dtype = _decode_cf_datetime_dtype(data, units, calendar, self.use_cftime)\n",
      "/home/mayayami/.conda/envs/main/lib/python3.9/site-packages/xarray/core/indexing.py:524: SerializationWarning: Unable to decode time axis into full numpy.datetime64 objects, continuing using cftime.datetime objects instead, reason: dates out of range\n",
      "  return np.asarray(array[self.key], dtype=None)\n"
     ]
    }
   ],
   "source": [
    "seas_prcp_Cgrid = {}\n",
    "\n",
    "for model in model_names:\n",
    "    adata = xr.open_dataset('/p/tmp/mayayami/NAHosMIP/{}/vars/aprcpm_Cgrid.nc'.format(model))[prcp_keys[model]][aslicesm[model][0]:aslicesm[model][1]]\n",
    "    cdata = xr.open_dataset('/p/tmp/mayayami/NAHosMIP/{}/vars/cprcpm_Cgrid.nc'.format(model))[prcp_keys[model]][cslicesm[model][0]:cslicesm[model][1]]\n",
    "\n",
    "    seas_prcp_Cgrid[model] = (season_mean(cdata))-(season_mean(adata))\n",
    "ens_mean_seas_diff = (seas_prcp_Cgrid[model_names[0]]+seas_prcp_Cgrid[model_names[1]]+seas_prcp_Cgrid[model_names[2]]+seas_prcp_Cgrid[model_names[3]])/4\n",
    "\n"
   ]
  },
  {
   "cell_type": "code",
   "execution_count": 26,
   "id": "b750513a",
   "metadata": {
    "ExecuteTime": {
     "end_time": "2024-08-05T15:55:53.618942Z",
     "start_time": "2024-08-05T15:55:18.101497Z"
    }
   },
   "outputs": [],
   "source": [
    "for i, season in enumerate(['DJF', 'JJA', 'MAM', 'SON']):\n",
    "    hsign = np.sign(seas_prcp_Cgrid['HadGEM3-GC3-1MM'][i])\n",
    "\n",
    "    match = seas_prcp_Cgrid['HadGEM3-GC3-1MM'][i].where(\n",
    "                      (np.sign(seas_prcp_Cgrid['CanESM5'][i])==hsign)&\n",
    "                    (np.sign(seas_prcp_Cgrid['CESM2'][i])==hsign)&\n",
    "                    (np.sign(seas_prcp_Cgrid['IPSL-CM6A-LR'][i])==hsign)\n",
    "    )\n",
    "    sig = get_shifted_stip(match,match.lat,match.lon,Clat_bnds,Clon_bnds)\n",
    "    sig.to_netcdf('/p/tmp/mayayami/NAHosMIP/shifted_sigs/all_sign_match_{}.nc'.format(season))"
   ]
  },
  {
   "cell_type": "markdown",
   "id": "083fcbd6",
   "metadata": {},
   "source": [
    "## only two models"
   ]
  },
  {
   "cell_type": "code",
   "execution_count": 29,
   "id": "0ff5b87a",
   "metadata": {
    "ExecuteTime": {
     "end_time": "2024-08-05T16:00:58.485061Z",
     "start_time": "2024-08-05T16:00:58.366290Z"
    }
   },
   "outputs": [],
   "source": [
    "match2 = diff_prcp_Cgrid['HadGEM3-GC3-1MM'].where(\n",
    "((np.sign(diff_prcp_Cgrid['CanESM5'])==hsign)&(np.sign(diff_prcp_Cgrid['CESM2'])==hsign)) |\n",
    "((np.sign(diff_prcp_Cgrid['CanESM5'])==hsign)&(np.sign(diff_prcp_Cgrid['IPSL-CM6A-LR'])==hsign)) |\n",
    "((np.sign(diff_prcp_Cgrid['IPSL-CM6A-LR'])==hsign)&(np.sign(diff_prcp_Cgrid['CESM2'])==hsign)))\n"
   ]
  },
  {
   "cell_type": "code",
   "execution_count": 30,
   "id": "9c9c1029",
   "metadata": {
    "ExecuteTime": {
     "end_time": "2024-08-05T16:01:07.539463Z",
     "start_time": "2024-08-05T16:00:58.666819Z"
    }
   },
   "outputs": [],
   "source": [
    "sig2 = get_shifted_stip(match2,match2.lat,match2.lon,Clat_bnds,Clon_bnds)\n",
    "sig2.to_netcdf('/p/tmp/mayayami/NAHosMIP/shifted_sigs/all_sign_match_two.nc')"
   ]
  },
  {
   "cell_type": "markdown",
   "id": "f4e9dd4d",
   "metadata": {},
   "source": [
    "# vs 4xCO2"
   ]
  },
  {
   "cell_type": "code",
   "execution_count": 133,
   "id": "775f6658",
   "metadata": {
    "ExecuteTime": {
     "end_time": "2023-01-18T15:54:04.538694Z",
     "start_time": "2023-01-18T15:54:04.533439Z"
    }
   },
   "outputs": [],
   "source": [
    "idc = [[60,140],[60,140],[60,140],[60,140]]\n",
    "co2_slicesy = dict(zip(model_names,idc))"
   ]
  },
  {
   "cell_type": "code",
   "execution_count": 134,
   "id": "d86d9fb3",
   "metadata": {
    "ExecuteTime": {
     "end_time": "2023-01-18T15:54:07.193394Z",
     "start_time": "2023-01-18T15:54:04.939120Z"
    }
   },
   "outputs": [
    {
     "name": "stderr",
     "output_type": "stream",
     "text": [
      "/p/tmp/mayayami/mayaenv/lib/python3.9/site-packages/xarray/coding/times.py:699: SerializationWarning: Unable to decode time axis into full numpy.datetime64 objects, continuing using cftime.datetime objects instead, reason: dates out of range\n",
      "  dtype = _decode_cf_datetime_dtype(data, units, calendar, self.use_cftime)\n",
      "/p/tmp/mayayami/mayaenv/lib/python3.9/site-packages/xarray/coding/times.py:699: SerializationWarning: Unable to decode time axis into full numpy.datetime64 objects, continuing using cftime.datetime objects instead, reason: dates out of range\n",
      "  dtype = _decode_cf_datetime_dtype(data, units, calendar, self.use_cftime)\n",
      "/p/tmp/mayayami/mayaenv/lib/python3.9/site-packages/xarray/core/indexing.py:524: SerializationWarning: Unable to decode time axis into full numpy.datetime64 objects, continuing using cftime.datetime objects instead, reason: dates out of range\n",
      "  return np.asarray(array[self.key], dtype=None)\n",
      "/p/tmp/mayayami/mayaenv/lib/python3.9/site-packages/xarray/coding/times.py:699: SerializationWarning: Unable to decode time axis into full numpy.datetime64 objects, continuing using cftime.datetime objects instead, reason: dates out of range\n",
      "  dtype = _decode_cf_datetime_dtype(data, units, calendar, self.use_cftime)\n",
      "/p/tmp/mayayami/mayaenv/lib/python3.9/site-packages/xarray/coding/times.py:699: SerializationWarning: Unable to decode time axis into full numpy.datetime64 objects, continuing using cftime.datetime objects instead, reason: dates out of range\n",
      "  dtype = _decode_cf_datetime_dtype(data, units, calendar, self.use_cftime)\n",
      "/p/tmp/mayayami/mayaenv/lib/python3.9/site-packages/xarray/core/indexing.py:524: SerializationWarning: Unable to decode time axis into full numpy.datetime64 objects, continuing using cftime.datetime objects instead, reason: dates out of range\n",
      "  return np.asarray(array[self.key], dtype=None)\n"
     ]
    }
   ],
   "source": [
    "co2_diff_prcp_Cgrid = {}\n",
    "\n",
    "for model in model_names:\n",
    "    adata = xr.open_dataset('/p/tmp/mayayami/NAHosMIP/{}/vars/aprcpm_Cgrid.nc'.format(model))[prcp_keys[model]][aslicesm[model][0]:aslicesm[model][1]]\n",
    "    co2_data = (xr.open_dataset('/p/tmp/mayayami/NAHosMIP/{}/4CO2_prcp_Cgrid_ymean.nc'.format(model)).pr*86400)[co2_slicesy[model][0]:co2_slicesy[model][1]]\n",
    "\n",
    "    co2_diff_prcp_Cgrid[model] = (co2_data.mean(dim='time'))-(adata.mean(dim='time'))\n",
    "\n",
    "co2_ens_mean_diff = (co2_diff_prcp_Cgrid[model_names[0]]+co2_diff_prcp_Cgrid[model_names[1]]+co2_diff_prcp_Cgrid[model_names[2]]+co2_diff_prcp_Cgrid[model_names[3]])/4"
   ]
  },
  {
   "cell_type": "code",
   "execution_count": 135,
   "id": "6c4dcce0",
   "metadata": {
    "ExecuteTime": {
     "end_time": "2023-01-18T15:54:35.889382Z",
     "start_time": "2023-01-18T15:54:35.869807Z"
    }
   },
   "outputs": [],
   "source": [
    "co2_hsign = np.sign(co2_diff_prcp_Cgrid['HadGEM3-GC3-1MM'])\n",
    "co2_match = co2_hsign.where(\n",
    "                      (np.sign(co2_diff_prcp_Cgrid['CanESM5'])==co2_hsign)&\n",
    "                    (np.sign(co2_diff_prcp_Cgrid['CESM2'])==co2_hsign)&\n",
    "                    (np.sign(co2_diff_prcp_Cgrid['IPSL-CM6A-LR'])==co2_hsign)\n",
    ")"
   ]
  },
  {
   "cell_type": "code",
   "execution_count": 136,
   "id": "1f16f6f3",
   "metadata": {
    "ExecuteTime": {
     "end_time": "2023-01-18T15:55:10.644553Z",
     "start_time": "2023-01-18T15:55:04.587487Z"
    }
   },
   "outputs": [],
   "source": [
    "co2_sig = get_shifted_stip(co2_match,co2_match.lat,co2_match.lon,Clat_bnds,Clon_bnds)\n",
    "co2_sig.to_netcdf('/p/tmp/mayayami/NAHosMIP/all_sign_match_co2.nc')"
   ]
  },
  {
   "cell_type": "markdown",
   "id": "fb5ad5c9",
   "metadata": {},
   "source": [
    "# dry season agreement"
   ]
  },
  {
   "cell_type": "code",
   "execution_count": 22,
   "id": "f76d83da",
   "metadata": {
    "ExecuteTime": {
     "end_time": "2023-01-19T10:23:16.524862Z",
     "start_time": "2023-01-19T10:23:16.517596Z"
    }
   },
   "outputs": [],
   "source": [
    "extent_latlon = {'am': [-25, -90, -30, 21],\n",
    " 'wam': [40, -25, -17.5, 32.5],\n",
    " 'ism': [60, 95, 0, 30],\n",
    " 'easm': [100, 150, 5, 45]}"
   ]
  },
  {
   "cell_type": "code",
   "execution_count": 23,
   "id": "381448fc",
   "metadata": {
    "ExecuteTime": {
     "end_time": "2023-01-19T10:23:17.067518Z",
     "start_time": "2023-01-19T10:23:17.064911Z"
    }
   },
   "outputs": [],
   "source": [
    "region_dict = {\n",
    "        'am':[360-85,360-30,-20,11],\n",
    "        'wam': [360-20,35,-10,25],\n",
    "        'ism': [70, 85, 5, 25],\n",
    "        'easm':[110,140,10,40]}"
   ]
  },
  {
   "cell_type": "code",
   "execution_count": 24,
   "id": "203b17aa",
   "metadata": {
    "ExecuteTime": {
     "end_time": "2023-01-19T10:23:22.636924Z",
     "start_time": "2023-01-19T10:23:19.729453Z"
    }
   },
   "outputs": [],
   "source": [
    "dmap5_Cgrid = {}\n",
    "dmap4_Cgrid = {}\n",
    "wmap7_Cgrid = {}\n",
    "wmap6_Cgrid = {}\n",
    "\n",
    "for model in model_names:\n",
    "    dmapp5 = {}\n",
    "    dmapp4 = {}\n",
    "    wmapp7 = {}\n",
    "    wmapp6 = {}\n",
    "    for region, extent in region_dict.items():\n",
    "        dmapp5[region] = xr.open_dataset('/p/tmp/mayayami/NAHosMIP/dry_maps/{}_dmap_{}_q5_Cgrid.nc'.format(model,region))\n",
    "        dmapp4[region] = xr.open_dataset('/p/tmp/mayayami/NAHosMIP/dry_maps/{}_dmap_{}_q4_Cgrid.nc'.format(model,region))\n",
    "        wmapp7[region] = xr.open_dataset('/p/tmp/mayayami/NAHosMIP/dry_maps/{}_wmap_{}_q7_Cgrid.nc'.format(model,region))\n",
    "        wmapp6[region] = xr.open_dataset('/p/tmp/mayayami/NAHosMIP/dry_maps/{}_wmap_{}_q6_Cgrid.nc'.format(model,region))\n",
    "\n",
    "        \n",
    "    dmap5_Cgrid[model]=dmapp5\n",
    "    dmap4_Cgrid[model]=dmapp4\n",
    "    wmap7_Cgrid[model]=wmapp7\n",
    "    wmap6_Cgrid[model]=wmapp6"
   ]
  },
  {
   "cell_type": "code",
   "execution_count": 25,
   "id": "775db167",
   "metadata": {
    "ExecuteTime": {
     "end_time": "2023-01-19T10:23:27.939587Z",
     "start_time": "2023-01-19T10:23:27.160073Z"
    }
   },
   "outputs": [],
   "source": [
    "dry_len_diff = {}\n",
    "dry_prcp_diff = {}\n",
    "wet_len_diff = {}\n",
    "wet_prcp_diff = {}\n",
    "\n",
    "region = 'am'\n",
    "\n",
    "for im, model in enumerate(model_names):\n",
    "    dry_len = {}\n",
    "    dry_prcp = {}\n",
    "    wet_len = {}\n",
    "    wet_prcp = {}\n",
    "    for region, extent in region_dict.items():\n",
    "        seamask = xr.open_dataset('/p/tmp/mayayami/NAHosMIP/{}/Cgrid_seamask.nc'.format(model)).topo\n",
    "        region_box = region_dict[region]\n",
    "\n",
    "        ####\n",
    "        data = (dmap4_Cgrid[model][region].cdlen1.mean(dim='year') - dmap4_Cgrid[model][region].adlen.mean(dim='year')).where(seamask==1)\n",
    "        dry_len[region]=data\n",
    "        ####\n",
    "\n",
    "        #####\n",
    "        data = (((dmap4_Cgrid[model][region].cdprcp1/dmap4_Cgrid[model][region].cdlen1).mean(dim='year'))\n",
    "                -((dmap4_Cgrid[model][region].adprcp/dmap4_Cgrid[model][region].adlen).mean(dim='year'))).where(seamask==1)\n",
    "        dry_prcp[region]=data\n",
    "        #####\n",
    "\n",
    "        ####\n",
    "        data = (wmap6_Cgrid[model][region].cwlen1.mean(dim='year') - wmap6_Cgrid[model][region].awlen.mean(dim='year')).where(seamask==1)\n",
    "        wet_len[region]=data\n",
    "        ####\n",
    "\n",
    "        ####\n",
    "        data = (((wmap6_Cgrid[model][region].cwprcp1/wmap6_Cgrid[model][region].cwlen1).mean(dim='year'))\n",
    "                -((wmap6_Cgrid[model][region].awprcp/wmap6_Cgrid[model][region].awlen).mean(dim='year'))).where(seamask==1)\n",
    "        wet_prcp[region]=data\n",
    "        ####\n",
    "    dry_len_diff[model] = dry_len\n",
    "    dry_prcp_diff[model] = dry_prcp\n",
    "    wet_len_diff[model] = wet_len\n",
    "    wet_prcp_diff[model] = wet_prcp"
   ]
  },
  {
   "cell_type": "code",
   "execution_count": 57,
   "id": "d3343663",
   "metadata": {
    "ExecuteTime": {
     "end_time": "2023-01-19T10:39:55.267877Z",
     "start_time": "2023-01-19T10:39:55.259310Z"
    }
   },
   "outputs": [],
   "source": [
    "def get_shifted_stip2(data,lats, lons,lat_bnds,lon_bnds):\n",
    "    shifted_sig = np.full((len(lat_bnds),len(lon_bnds)),np.nan)\n",
    "    for i, lat in enumerate(lats):\n",
    "        for j, lon in enumerate(lons):\n",
    "            try:\n",
    "                x = data.sel(latitude=lat,longitude=lon).values\n",
    "            except:\n",
    "                x = data.sel(lat=lat,lon=lon).values\n",
    "            shifted_sig[i,j]=x\n",
    "            shifted_sig[i,j+1]=x\n",
    "            shifted_sig[i+1,j]=x\n",
    "            shifted_sig[i+1,j+1]=x\n",
    "\n",
    "    \n",
    "    sig = xr.Dataset(\n",
    "            data_vars = dict(data=(['lat','lon'],shifted_sig)),\n",
    "            coords = dict(\n",
    "                    lat = xr.DataArray(lat_bnds, dims=\"lat\", coords=dict(lat=(\"lat\", lat_bnds))),\n",
    "                    lon = xr.DataArray(lon_bnds, dims=\"lon\", coords=dict(lon=(\"lon\", lon_bnds)))))\n",
    "    return sig"
   ]
  },
  {
   "cell_type": "code",
   "execution_count": 101,
   "id": "d56c3591",
   "metadata": {
    "ExecuteTime": {
     "end_time": "2023-01-19T10:56:05.801292Z",
     "start_time": "2023-01-19T10:56:04.874211Z"
    }
   },
   "outputs": [],
   "source": [
    "\n",
    "for iv, val in enumerate([dry_len_diff,dry_prcp_diff,wet_len_diff,wet_prcp_diff]):\n",
    "    for i, region in enumerate(region_dict.keys()):\n",
    "        if region=='wam':\n",
    "            hsign = np.sign(val['HadGEM3-GC3-1MM'][region])\n",
    "            match = hsign.where(\n",
    "                                  (np.sign(val['CanESM5'][region])==hsign)&\n",
    "                                (np.sign(val['CESM2'][region])==hsign)&\n",
    "                                (np.sign(val['IPSL-CM6A-LR'][region])==hsign)\n",
    "            )\n",
    "            box_lon_bnds = Clon_bnds[int(np.where(Clon_bnds>=match.lon.values[0])[0][0]-1):int(np.where(Clon_bnds<=match.lon.values[-1])[0][-1]+2)]\n",
    "            box_lon_bnds = np.concatenate((box_lon_bnds[:14],box_lon_bnds[-7:],[360-1.40625]))\n",
    "            box_lat_bnds = Clat_bnds[int(np.where(Clat_bnds>=match.lat.values[0])[0][0]-1):int(np.where(Clat_bnds<=match.lat.values[-1])[0][-1]+2)]\n",
    "\n",
    "            sig = get_shifted_stip2(match,match.lat,match.lon,box_lat_bnds,box_lon_bnds)\n",
    "            sig.to_netcdf('/p/tmp/mayayami/NAHosMIP/seas_signs/all_sign_match_{}_{}.nc'.format(iv,region))"
   ]
  },
  {
   "cell_type": "code",
   "execution_count": null,
   "id": "c335c308",
   "metadata": {},
   "outputs": [],
   "source": []
  },
  {
   "cell_type": "code",
   "execution_count": null,
   "id": "e4f8c067",
   "metadata": {},
   "outputs": [],
   "source": []
  }
 ],
 "metadata": {
  "hide_input": false,
  "kernelspec": {
   "display_name": "Python 3 (ipykernel)",
   "language": "python",
   "name": "python3"
  },
  "language_info": {
   "codemirror_mode": {
    "name": "ipython",
    "version": 3
   },
   "file_extension": ".py",
   "mimetype": "text/x-python",
   "name": "python",
   "nbconvert_exporter": "python",
   "pygments_lexer": "ipython3",
   "version": "3.9.16"
  },
  "toc": {
   "base_numbering": 1,
   "nav_menu": {},
   "number_sections": true,
   "sideBar": true,
   "skip_h1_title": false,
   "title_cell": "Table of Contents",
   "title_sidebar": "Contents",
   "toc_cell": false,
   "toc_position": {},
   "toc_section_display": true,
   "toc_window_display": true
  },
  "varInspector": {
   "cols": {
    "lenName": 16,
    "lenType": 16,
    "lenVar": 40
   },
   "kernels_config": {
    "python": {
     "delete_cmd_postfix": "",
     "delete_cmd_prefix": "del ",
     "library": "var_list.py",
     "varRefreshCmd": "print(var_dic_list())"
    },
    "r": {
     "delete_cmd_postfix": ") ",
     "delete_cmd_prefix": "rm(",
     "library": "var_list.r",
     "varRefreshCmd": "cat(var_dic_list()) "
    }
   },
   "types_to_exclude": [
    "module",
    "function",
    "builtin_function_or_method",
    "instance",
    "_Feature"
   ],
   "window_display": false
  }
 },
 "nbformat": 4,
 "nbformat_minor": 5
}
