{
 "cells": [
  {
   "cell_type": "markdown",
   "id": "498e926d",
   "metadata": {},
   "source": [
    "This notebook calculates the values for the tables in the SI, as well as for figure 3 in the main text. To avoid confusion, please note that aprcpm is piControl monthly precipitation, and cprcpm is the hosing experiment monthly precipitation (see txt file on naming conventions)."
   ]
  },
  {
   "cell_type": "markdown",
   "id": "ec90107a",
   "metadata": {},
   "source": [
    "# Utilities"
   ]
  },
  {
   "cell_type": "code",
   "execution_count": 7,
   "id": "0a35e1bc",
   "metadata": {
    "ExecuteTime": {
     "end_time": "2024-08-07T15:14:50.548374Z",
     "start_time": "2024-08-07T15:14:50.544310Z"
    }
   },
   "outputs": [],
   "source": [
    "import numpy as np\n",
    "import xarray as xr\n",
    "import glob\n",
    "from functions import *\n",
    "import pandas as pd\n",
    "pd.options.display.float_format = '{:,.2f}'.format\n",
    "from scipy.stats import pearsonr"
   ]
  },
  {
   "cell_type": "code",
   "execution_count": 2,
   "id": "8fdf3978",
   "metadata": {
    "ExecuteTime": {
     "end_time": "2024-08-07T15:14:36.992223Z",
     "start_time": "2024-08-07T15:14:36.989003Z"
    }
   },
   "outputs": [],
   "source": [
    "model_names = ['HadGEM3-GC3-1MM','CanESM5','CESM2','IPSL-CM6A-LR']\n",
    "model_names2 = ['HadGEM3-GC31-MM','CanESM5','CESM2','IPSL-CM6A-LR']"
   ]
  },
  {
   "cell_type": "code",
   "execution_count": 3,
   "id": "a40ad5fe",
   "metadata": {
    "ExecuteTime": {
     "end_time": "2024-08-07T15:14:37.969073Z",
     "start_time": "2024-08-07T15:14:37.965081Z"
    }
   },
   "outputs": [],
   "source": [
    "prcp_keys = dict(zip(model_names,['precipitation_flux','pr','PRECC','pr']))"
   ]
  },
  {
   "cell_type": "code",
   "execution_count": 4,
   "id": "2864d1f3",
   "metadata": {
    "ExecuteTime": {
     "end_time": "2024-08-07T15:14:38.655834Z",
     "start_time": "2024-08-07T15:14:38.650318Z"
    }
   },
   "outputs": [],
   "source": [
    "aidcs = [[0,80*12],[0,80*12],[0+11,80*12+11],[0,80*12]]\n",
    "cidcs = [[20*12,100*12],[20*12,100*12],[100*12+11,180*12+11],[60*12,140*12]]\n",
    "aslices1 = dict(zip(model_names,aidcs))\n",
    "cslices1 = dict(zip(model_names,cidcs))\n",
    "aslices = aslices1\n",
    "cslices = cslices1\n",
    "aslicesm = aslices1\n",
    "cslicesm = cslices1"
   ]
  },
  {
   "cell_type": "code",
   "execution_count": 12,
   "id": "176492f5",
   "metadata": {
    "ExecuteTime": {
     "end_time": "2024-08-07T15:16:01.165681Z",
     "start_time": "2024-08-07T15:16:01.162319Z"
    }
   },
   "outputs": [],
   "source": [
    "aidcs = [[0,80],[0,80],[1,81],[0,80]]\n",
    "cidcs = [[20,100],[20,100],[101,181],[60,140]]\n",
    "aslicesy = dict(zip(model_names,aidcs))\n",
    "cslicesy = dict(zip(model_names,cidcs))"
   ]
  },
  {
   "cell_type": "code",
   "execution_count": 5,
   "id": "cfc56636",
   "metadata": {
    "ExecuteTime": {
     "end_time": "2024-08-07T15:14:39.155650Z",
     "start_time": "2024-08-07T15:14:39.151954Z"
    }
   },
   "outputs": [],
   "source": [
    "idc = [[60,140],[60,140],[60,140],[60,140]]\n",
    "co2_slicesy = dict(zip(model_names,idc))\n",
    "idc = [[60*12,140*12],[60*12,140*12],[60*12,140*12],[60*12,140*12]]\n",
    "co2_slicesm = dict(zip(model_names,idc))"
   ]
  },
  {
   "cell_type": "code",
   "execution_count": 6,
   "id": "53c00863",
   "metadata": {
    "ExecuteTime": {
     "end_time": "2024-08-07T15:14:41.600842Z",
     "start_time": "2024-08-07T15:14:41.592516Z"
    }
   },
   "outputs": [],
   "source": [
    "boxes_latlon = [[285-360,317.5-360,-15,-5,],\n",
    "    [295-360,315-360,-15,-5],\n",
    "    [-75,-60,0,10],\n",
    "    [-75,-50,-10,0],\n",
    "    [-50,-40,-15,-5],\n",
    "    [-20,20,9,20],\n",
    "    [-20,20,0,10],\n",
    "    [-20,20,5,15],\n",
    "   [-75,-55,-5,5],\n",
    "   [-20,25,5,20],\n",
    "   [70,85,5,25],\n",
    "    [110,140,10,40]]\n",
    "boxes_dict = {\n",
    "    'am1': [285,317.5,-15,-5],\n",
    "    'am2' :[295,315,-15,-5],\n",
    "     'pam1':   [360-75,360-60,0,10],\n",
    "    'pam2': [360-75,360-50,-10,0],\n",
    "    'pam3': [360-50,360-40,-15,-5],\n",
    "    'wam1': [360-20,360+20,9,20],\n",
    "    'wam2': [360-20,360+20,0,10],\n",
    "    'wam3': [360-20,360+20,5,15],\n",
    "    'am3':[360-75,360-55,-5,5],\n",
    "    'wam4':[360-20,25,5,20],\n",
    "    'ism1':[70,85,5,25],\n",
    "    'easm2':[110,140,10,40]\n",
    "}"
   ]
  },
  {
   "cell_type": "markdown",
   "id": "2556459c",
   "metadata": {},
   "source": [
    "# all model agreement in different scenarios"
   ]
  },
  {
   "cell_type": "markdown",
   "id": "262b391f",
   "metadata": {},
   "source": [
    "## geographic"
   ]
  },
  {
   "cell_type": "code",
   "execution_count": 9,
   "id": "bd3f4e07",
   "metadata": {
    "ExecuteTime": {
     "end_time": "2024-08-07T13:51:44.152514Z",
     "start_time": "2024-08-07T13:51:38.997391Z"
    }
   },
   "outputs": [
    {
     "name": "stderr",
     "output_type": "stream",
     "text": [
      "/home/mayayami/.conda/envs/main/lib/python3.9/site-packages/xarray/coding/times.py:699: SerializationWarning: Unable to decode time axis into full numpy.datetime64 objects, continuing using cftime.datetime objects instead, reason: dates out of range\n",
      "  dtype = _decode_cf_datetime_dtype(data, units, calendar, self.use_cftime)\n",
      "/home/mayayami/.conda/envs/main/lib/python3.9/site-packages/xarray/coding/times.py:699: SerializationWarning: Unable to decode time axis into full numpy.datetime64 objects, continuing using cftime.datetime objects instead, reason: dates out of range\n",
      "  dtype = _decode_cf_datetime_dtype(data, units, calendar, self.use_cftime)\n",
      "/home/mayayami/.conda/envs/main/lib/python3.9/site-packages/xarray/core/indexing.py:524: SerializationWarning: Unable to decode time axis into full numpy.datetime64 objects, continuing using cftime.datetime objects instead, reason: dates out of range\n",
      "  return np.asarray(array[self.key], dtype=None)\n"
     ]
    }
   ],
   "source": [
    "## agreement in NAHosMIP\n",
    "diff_prcp_Cgrid = {}\n",
    "\n",
    "for model in model_names:\n",
    "    adata = xr.open_dataset('/p/tmp/mayayami/NAHosMIP/{}/vars/aprcpm_Cgrid.nc'.format(model))[prcp_keys[model]][aslicesm[model][0]:aslicesm[model][1]]\n",
    "    cdata = xr.open_dataset('/p/tmp/mayayami/NAHosMIP/{}/vars/cprcpm_Cgrid.nc'.format(model))[prcp_keys[model]][cslicesm[model][0]:cslicesm[model][1]]\n",
    "\n",
    "    diff_prcp_Cgrid[model] = (cdata.mean(dim='time'))-(adata.mean(dim='time'))\n",
    "\n",
    "hsign = np.sign(diff_prcp_Cgrid['HadGEM3-GC3-1MM'])\n",
    "match = hsign.where(\n",
    "                      (np.sign(diff_prcp_Cgrid['CanESM5'])==hsign)&\n",
    "                    (np.sign(diff_prcp_Cgrid['CESM2'])==hsign)&\n",
    "                    (np.sign(diff_prcp_Cgrid['IPSL-CM6A-LR'])==hsign)\n",
    ")"
   ]
  },
  {
   "cell_type": "code",
   "execution_count": 16,
   "id": "7d8d46b3",
   "metadata": {
    "ExecuteTime": {
     "end_time": "2024-08-07T13:52:40.386787Z",
     "start_time": "2024-08-07T13:52:37.623810Z"
    },
    "scrolled": true
   },
   "outputs": [
    {
     "name": "stderr",
     "output_type": "stream",
     "text": [
      "/home/mayayami/.conda/envs/main/lib/python3.9/site-packages/xarray/coding/times.py:699: SerializationWarning: Unable to decode time axis into full numpy.datetime64 objects, continuing using cftime.datetime objects instead, reason: dates out of range\n",
      "  dtype = _decode_cf_datetime_dtype(data, units, calendar, self.use_cftime)\n",
      "/home/mayayami/.conda/envs/main/lib/python3.9/site-packages/xarray/coding/times.py:699: SerializationWarning: Unable to decode time axis into full numpy.datetime64 objects, continuing using cftime.datetime objects instead, reason: dates out of range\n",
      "  dtype = _decode_cf_datetime_dtype(data, units, calendar, self.use_cftime)\n",
      "/home/mayayami/.conda/envs/main/lib/python3.9/site-packages/xarray/core/indexing.py:524: SerializationWarning: Unable to decode time axis into full numpy.datetime64 objects, continuing using cftime.datetime objects instead, reason: dates out of range\n",
      "  return np.asarray(array[self.key], dtype=None)\n",
      "/home/mayayami/.conda/envs/main/lib/python3.9/site-packages/xarray/coding/times.py:699: SerializationWarning: Unable to decode time axis into full numpy.datetime64 objects, continuing using cftime.datetime objects instead, reason: dates out of range\n",
      "  dtype = _decode_cf_datetime_dtype(data, units, calendar, self.use_cftime)\n",
      "/home/mayayami/.conda/envs/main/lib/python3.9/site-packages/xarray/coding/times.py:699: SerializationWarning: Unable to decode time axis into full numpy.datetime64 objects, continuing using cftime.datetime objects instead, reason: dates out of range\n",
      "  dtype = _decode_cf_datetime_dtype(data, units, calendar, self.use_cftime)\n",
      "/home/mayayami/.conda/envs/main/lib/python3.9/site-packages/xarray/core/indexing.py:524: SerializationWarning: Unable to decode time axis into full numpy.datetime64 objects, continuing using cftime.datetime objects instead, reason: dates out of range\n",
      "  return np.asarray(array[self.key], dtype=None)\n"
     ]
    }
   ],
   "source": [
    "# agreement in 4xco2 experiments\n",
    "co2_diff_prcp_Cgrid = {}\n",
    "\n",
    "for model in model_names:\n",
    "    adata = xr.open_dataset('/p/tmp/mayayami/NAHosMIP/{}/vars/aprcpm_Cgrid.nc'.format(model))[prcp_keys[model]][aslicesm[model][0]:aslicesm[model][1]]\n",
    "    co2_data = (xr.open_dataset('/p/tmp/mayayami/NAHosMIP/{}/4CO2_prcp_Cgrid_ymean.nc'.format(model)).pr*86400)[co2_slicesy[model][0]:co2_slicesy[model][1]]\n",
    "\n",
    "    co2_diff_prcp_Cgrid[model] = (co2_data.mean(dim='time'))-(adata.mean(dim='time'))\n",
    "\n",
    "co2_hsign = np.sign(co2_diff_prcp_Cgrid['HadGEM3-GC3-1MM'])\n",
    "co2_match = co2_hsign.where(\n",
    "                      (np.sign(co2_diff_prcp_Cgrid['CanESM5'])==co2_hsign)&\n",
    "                    (np.sign(co2_diff_prcp_Cgrid['CESM2'])==co2_hsign)&\n",
    "                    (np.sign(co2_diff_prcp_Cgrid['IPSL-CM6A-LR'])==co2_hsign)\n",
    ")"
   ]
  },
  {
   "cell_type": "code",
   "execution_count": 19,
   "id": "254d9f18",
   "metadata": {
    "ExecuteTime": {
     "end_time": "2024-08-07T13:53:16.360709Z",
     "start_time": "2024-08-07T13:53:13.558443Z"
    }
   },
   "outputs": [
    {
     "name": "stderr",
     "output_type": "stream",
     "text": [
      "/home/mayayami/.conda/envs/main/lib/python3.9/site-packages/xarray/coding/times.py:699: SerializationWarning: Unable to decode time axis into full numpy.datetime64 objects, continuing using cftime.datetime objects instead, reason: dates out of range\n",
      "  dtype = _decode_cf_datetime_dtype(data, units, calendar, self.use_cftime)\n",
      "/home/mayayami/.conda/envs/main/lib/python3.9/site-packages/xarray/coding/times.py:699: SerializationWarning: Unable to decode time axis into full numpy.datetime64 objects, continuing using cftime.datetime objects instead, reason: dates out of range\n",
      "  dtype = _decode_cf_datetime_dtype(data, units, calendar, self.use_cftime)\n",
      "/home/mayayami/.conda/envs/main/lib/python3.9/site-packages/xarray/core/indexing.py:524: SerializationWarning: Unable to decode time axis into full numpy.datetime64 objects, continuing using cftime.datetime objects instead, reason: dates out of range\n",
      "  return np.asarray(array[self.key], dtype=None)\n",
      "/home/mayayami/.conda/envs/main/lib/python3.9/site-packages/xarray/coding/times.py:699: SerializationWarning: Unable to decode time axis into full numpy.datetime64 objects, continuing using cftime.datetime objects instead, reason: dates out of range\n",
      "  dtype = _decode_cf_datetime_dtype(data, units, calendar, self.use_cftime)\n",
      "/home/mayayami/.conda/envs/main/lib/python3.9/site-packages/xarray/coding/times.py:699: SerializationWarning: Unable to decode time axis into full numpy.datetime64 objects, continuing using cftime.datetime objects instead, reason: dates out of range\n",
      "  dtype = _decode_cf_datetime_dtype(data, units, calendar, self.use_cftime)\n",
      "/home/mayayami/.conda/envs/main/lib/python3.9/site-packages/xarray/core/indexing.py:524: SerializationWarning: Unable to decode time axis into full numpy.datetime64 objects, continuing using cftime.datetime objects instead, reason: dates out of range\n",
      "  return np.asarray(array[self.key], dtype=None)\n"
     ]
    }
   ],
   "source": [
    "# agreement in ssp585\n",
    "ssp585_diff_prcp_Cgrid = {}\n",
    "\n",
    "for i, model in enumerate(model_names):\n",
    "    adata = xr.open_dataset('/p/tmp/mayayami/NAHosMIP/{}/vars/aprcpm_Cgrid.nc'.format(model_names[i]))[prcp_keys[model_names[i]]][aslicesm[model_names[i]][0]:aslicesm[model_names[i]][1]]\n",
    "    ifile = glob.glob('/p/tmp/mayayami/NAHosMIP/scenario_pr/pr_Amon_{}_ssp585_*_ymean_Cgrid.nc'.format(model_names2[i]))[0]\n",
    "    ssp585_data = (xr.open_dataset(ifile).pr*86400)[66:86]\n",
    "\n",
    "    ssp585_diff_prcp_Cgrid[model] = (ssp585_data.mean(dim='time'))-(adata.mean(dim='time'))\n",
    "\n",
    "ssp585_hsign = np.sign(ssp585_diff_prcp_Cgrid['HadGEM3-GC3-1MM'])\n",
    "ssp585_match = ssp585_hsign.where(\n",
    "                      (np.sign(ssp585_diff_prcp_Cgrid['CanESM5'])==ssp585_hsign)&\n",
    "                    (np.sign(ssp585_diff_prcp_Cgrid['CESM2'])==ssp585_hsign)&\n",
    "                    (np.sign(ssp585_diff_prcp_Cgrid['IPSL-CM6A-LR'])==ssp585_hsign)\n",
    ")"
   ]
  },
  {
   "cell_type": "code",
   "execution_count": 20,
   "id": "ff2fdc23",
   "metadata": {
    "ExecuteTime": {
     "end_time": "2024-08-07T13:53:20.839321Z",
     "start_time": "2024-08-07T13:53:18.349341Z"
    }
   },
   "outputs": [
    {
     "name": "stderr",
     "output_type": "stream",
     "text": [
      "/home/mayayami/.conda/envs/main/lib/python3.9/site-packages/xarray/coding/times.py:699: SerializationWarning: Unable to decode time axis into full numpy.datetime64 objects, continuing using cftime.datetime objects instead, reason: dates out of range\n",
      "  dtype = _decode_cf_datetime_dtype(data, units, calendar, self.use_cftime)\n",
      "/home/mayayami/.conda/envs/main/lib/python3.9/site-packages/xarray/coding/times.py:699: SerializationWarning: Unable to decode time axis into full numpy.datetime64 objects, continuing using cftime.datetime objects instead, reason: dates out of range\n",
      "  dtype = _decode_cf_datetime_dtype(data, units, calendar, self.use_cftime)\n",
      "/home/mayayami/.conda/envs/main/lib/python3.9/site-packages/xarray/core/indexing.py:524: SerializationWarning: Unable to decode time axis into full numpy.datetime64 objects, continuing using cftime.datetime objects instead, reason: dates out of range\n",
      "  return np.asarray(array[self.key], dtype=None)\n",
      "/home/mayayami/.conda/envs/main/lib/python3.9/site-packages/xarray/coding/times.py:699: SerializationWarning: Unable to decode time axis into full numpy.datetime64 objects, continuing using cftime.datetime objects instead, reason: dates out of range\n",
      "  dtype = _decode_cf_datetime_dtype(data, units, calendar, self.use_cftime)\n",
      "/home/mayayami/.conda/envs/main/lib/python3.9/site-packages/xarray/coding/times.py:699: SerializationWarning: Unable to decode time axis into full numpy.datetime64 objects, continuing using cftime.datetime objects instead, reason: dates out of range\n",
      "  dtype = _decode_cf_datetime_dtype(data, units, calendar, self.use_cftime)\n",
      "/home/mayayami/.conda/envs/main/lib/python3.9/site-packages/xarray/core/indexing.py:524: SerializationWarning: Unable to decode time axis into full numpy.datetime64 objects, continuing using cftime.datetime objects instead, reason: dates out of range\n",
      "  return np.asarray(array[self.key], dtype=None)\n"
     ]
    }
   ],
   "source": [
    "# agreement in ssp126\n",
    "ssp126_diff_prcp_Cgrid = {}\n",
    "\n",
    "for i, model in enumerate(model_names):\n",
    "    adata = xr.open_dataset('/p/tmp/mayayami/NAHosMIP/{}/vars/aprcpm_Cgrid.nc'.format(model_names[i]))[prcp_keys[model_names[i]]][aslicesm[model_names[i]][0]:aslicesm[model_names[i]][1]]\n",
    "    ifile = glob.glob('/p/tmp/mayayami/NAHosMIP/scenario_pr/pr_Amon_{}_ssp126_*_ymean_Cgrid.nc'.format(model_names2[i]))[0]\n",
    "    ssp126_data = (xr.open_dataset(ifile).pr*86400)[66:86]\n",
    "\n",
    "    ssp126_diff_prcp_Cgrid[model] = (ssp126_data.mean(dim='time'))-(adata.mean(dim='time'))\n",
    "\n",
    "ssp126_hsign = np.sign(ssp126_diff_prcp_Cgrid['HadGEM3-GC3-1MM'])\n",
    "ssp126_match = ssp126_hsign.where(\n",
    "                      (np.sign(ssp126_diff_prcp_Cgrid['CanESM5'])==ssp126_hsign)&\n",
    "                    (np.sign(ssp126_diff_prcp_Cgrid['CESM2'])==ssp126_hsign)&\n",
    "                    (np.sign(ssp126_diff_prcp_Cgrid['IPSL-CM6A-LR'])==ssp126_hsign)\n",
    ")"
   ]
  },
  {
   "cell_type": "code",
   "execution_count": 21,
   "id": "0b3ba911",
   "metadata": {
    "ExecuteTime": {
     "end_time": "2024-08-07T13:53:21.439257Z",
     "start_time": "2024-08-07T13:53:21.407335Z"
    }
   },
   "outputs": [],
   "source": [
    "weights = xr.open_dataset('/p/tmp/mayayami/NAHosMIP/Cgrid_remap_areas.nc').cell_area\n",
    "weights = weights/weights.mean()"
   ]
  },
  {
   "cell_type": "code",
   "execution_count": 22,
   "id": "6e341b6f",
   "metadata": {
    "ExecuteTime": {
     "end_time": "2024-08-07T13:53:22.089801Z",
     "start_time": "2024-08-07T13:53:22.036950Z"
    }
   },
   "outputs": [],
   "source": [
    "# mask all areas to get only land\n",
    "seamask = xr.open_dataset('/p/tmp/mayayami/NAHosMIP/{}/seamask_Cgrid.nc'.format('CanESM5')).topo\n",
    "match_cont = match.where(seamask>=1)\n",
    "co2_match_cont = co2_match.where(seamask>=1)\n",
    "ssp585_match_cont = ssp585_match.where(seamask>=1)\n",
    "ssp126_match_cont = ssp126_match.where(seamask>=1)\n",
    "hsign_cont = hsign.where(seamask>=1)\n",
    "co2_hsign_cont = co2_hsign.where(seamask>=1)\n",
    "ssp585_hsign_cont = ssp585_hsign.where(seamask>=1)\n",
    "ssp126_hsign_cont = ssp126_hsign.where(seamask>=1)"
   ]
  },
  {
   "cell_type": "code",
   "execution_count": 23,
   "id": "ffae2d0c",
   "metadata": {
    "ExecuteTime": {
     "end_time": "2024-08-07T13:53:22.620811Z",
     "start_time": "2024-08-07T13:53:22.617810Z"
    }
   },
   "outputs": [],
   "source": [
    "# gives 1 in all cells where there is data and nan otherwise\n",
    "def fill(data):\n",
    "    ds = xr.full_like(data,1)\n",
    "    ds = ds.where(~data.isnull())\n",
    "    return ds"
   ]
  },
  {
   "cell_type": "code",
   "execution_count": 24,
   "id": "f0423c27",
   "metadata": {
    "ExecuteTime": {
     "end_time": "2024-08-07T13:53:23.060161Z",
     "start_time": "2024-08-07T13:53:23.047257Z"
    }
   },
   "outputs": [],
   "source": [
    "# we want to count all the gridcells where the models match, so we fill each of those cells with 1\n",
    "# we can then choose a region and add up the gridcells\n",
    "match_cont = fill(match_cont)\n",
    "co2_match_cont = fill(co2_match_cont)\n",
    "ssp585_match_cont = fill(ssp585_match_cont)\n",
    "ssp126_match_cont = fill(ssp126_match_cont)"
   ]
  },
  {
   "cell_type": "code",
   "execution_count": 25,
   "id": "fe51ad9d",
   "metadata": {
    "ExecuteTime": {
     "end_time": "2024-08-07T13:53:23.542914Z",
     "start_time": "2024-08-07T13:53:23.539748Z"
    }
   },
   "outputs": [],
   "source": [
    "def frac(d,d_tot,weights):\n",
    "    n = (d*weights).sum() # weighted area where models agree\n",
    "    n_tot = (d_tot*weights).sum() # weighted total area\n",
    "    return n/n_tot"
   ]
  },
  {
   "cell_type": "code",
   "execution_count": 26,
   "id": "79827dcd",
   "metadata": {
    "ExecuteTime": {
     "end_time": "2024-08-07T13:53:23.940508Z",
     "start_time": "2024-08-07T13:53:23.937677Z"
    }
   },
   "outputs": [],
   "source": [
    "region_names = ['Global','No Poles','Extratropics','Tropics','S AM','N AM','WAM','ISM','EASM']"
   ]
  },
  {
   "cell_type": "code",
   "execution_count": 27,
   "id": "5bc43f29",
   "metadata": {
    "ExecuteTime": {
     "end_time": "2024-08-07T13:53:24.389702Z",
     "start_time": "2024-08-07T13:53:24.382687Z"
    }
   },
   "outputs": [],
   "source": [
    "# functions for getting the frractions in a given region\n",
    "def co2_reg_frac(min_lon,max_lon,min_lat,max_lat):\n",
    "    wghts = get_box2(weights,min_lon,max_lon,min_lat,max_lat,lon=True,drop=True)\n",
    "    mtch = get_box2(co2_match_cont,min_lon,max_lon,min_lat,max_lat,lon=True,drop=True)\n",
    "    tot = get_box2(co2_hsign_cont,min_lon,max_lon,min_lat,max_lat,lon=True,drop=True)\n",
    "    return frac(mtch,fill(tot),wghts).values\n",
    "def ssp585_reg_frac(min_lon,max_lon,min_lat,max_lat):\n",
    "    wghts = get_box2(weights,min_lon,max_lon,min_lat,max_lat,lon=True,drop=True)\n",
    "    mtch = get_box2(ssp585_match_cont,min_lon,max_lon,min_lat,max_lat,lon=True,drop=True)\n",
    "    tot = get_box2(ssp585_hsign_cont,min_lon,max_lon,min_lat,max_lat,lon=True,drop=True)\n",
    "    return frac(mtch,fill(tot),wghts).values\n",
    "def ssp126_reg_frac(min_lon,max_lon,min_lat,max_lat):\n",
    "    wghts = get_box2(weights,min_lon,max_lon,min_lat,max_lat,lon=True,drop=True)\n",
    "    mtch = get_box2(ssp126_match_cont,min_lon,max_lon,min_lat,max_lat,lon=True,drop=True)\n",
    "    tot = get_box2(ssp126_hsign_cont,min_lon,max_lon,min_lat,max_lat,lon=True,drop=True)\n",
    "    return frac(mtch,fill(tot),wghts).values\n",
    "def reg_frac(min_lon,max_lon,min_lat,max_lat):\n",
    "    wghts = get_box2(weights,min_lon,max_lon,min_lat,max_lat,lon=True,drop=True)\n",
    "    mtch = get_box2(match_cont,min_lon,max_lon,min_lat,max_lat,lon=True,drop=True)\n",
    "    tot = get_box2(hsign_cont,min_lon,max_lon,min_lat,max_lat,lon=True,drop=True)\n",
    "    return frac(mtch,fill(tot),wghts).values"
   ]
  },
  {
   "cell_type": "code",
   "execution_count": 33,
   "id": "6cae4dae",
   "metadata": {
    "ExecuteTime": {
     "end_time": "2024-08-07T13:54:11.775054Z",
     "start_time": "2024-08-07T13:54:10.314639Z"
    }
   },
   "outputs": [],
   "source": [
    "region_frac = []\n",
    "co2_region_frac = []\n",
    "ssp585_region_frac = []\n",
    "ssp126_region_frac = []\n",
    "\n",
    "# global\n",
    "region_frac.append(frac(match_cont,fill(hsign_cont),weights).values)\n",
    "co2_region_frac.append(frac(co2_match_cont,fill(co2_hsign_cont),weights).values)\n",
    "ssp585_region_frac.append(frac(ssp585_match_cont,fill(ssp585_hsign_cont),weights).values)\n",
    "ssp126_region_frac.append(frac(ssp126_match_cont,fill(ssp126_hsign_cont),weights).values)\n",
    "\n",
    "# no poles\n",
    "min_lon,max_lon,min_lat,max_lat = 0, 360, -60,60\n",
    "region_frac.append(reg_frac(min_lon,max_lon,min_lat,max_lat))\n",
    "co2_region_frac.append(co2_reg_frac(min_lon,max_lon,min_lat,max_lat))\n",
    "ssp585_region_frac.append(ssp585_reg_frac(min_lon,max_lon,min_lat,max_lat))\n",
    "ssp126_region_frac.append(ssp126_reg_frac(min_lon,max_lon,min_lat,max_lat))\n",
    "\n",
    "# extratropics --> need to add up two regions\n",
    "min_lon1,max_lon1,min_lat1,max_lat1 = 0, 360, 30,60\n",
    "min_lon2,max_lon2,min_lat2,max_lat2 = 0, 360, -60,-30\n",
    "region_frac.append((reg_frac(min_lon1,max_lon1,min_lat1,max_lat1)+reg_frac(min_lon2,max_lon2,min_lat2,max_lat2))/2)\n",
    "co2_region_frac.append((co2_reg_frac(min_lon1,max_lon1,min_lat1,max_lat1)+co2_reg_frac(min_lon2,max_lon2,min_lat2,max_lat2))/2)\n",
    "ssp585_region_frac.append((ssp585_reg_frac(min_lon1,max_lon1,min_lat1,max_lat1)+ssp585_reg_frac(min_lon2,max_lon2,min_lat2,max_lat2))/2)\n",
    "ssp126_region_frac.append((ssp126_reg_frac(min_lon1,max_lon1,min_lat1,max_lat1)+ssp126_reg_frac(min_lon2,max_lon2,min_lat2,max_lat2))/2)\n",
    "\n",
    "#tropics\n",
    "min_lon,max_lon,min_lat,max_lat = 0, 360, -20,20\n",
    "region_frac.append(reg_frac(min_lon,max_lon,min_lat,max_lat))\n",
    "co2_region_frac.append(co2_reg_frac(min_lon,max_lon,min_lat,max_lat))\n",
    "ssp585_region_frac.append(ssp585_reg_frac(min_lon,max_lon,min_lat,max_lat))\n",
    "ssp126_region_frac.append(ssp126_reg_frac(min_lon,max_lon,min_lat,max_lat))\n",
    "\n",
    "#boxes\n",
    "for i, ibox in enumerate([0,8,9,10,11]):\n",
    "    box = list(boxes_dict.keys())[ibox]\n",
    "    latlon = boxes_dict[box]\n",
    "    min_lon = latlon[0]\n",
    "    max_lon = latlon[1]\n",
    "    min_lat = latlon[2]\n",
    "    max_lat = latlon[3]\n",
    "    region_frac.append(reg_frac(min_lon,max_lon,min_lat,max_lat))\n",
    "    co2_region_frac.append(co2_reg_frac(min_lon,max_lon,min_lat,max_lat))\n",
    "    ssp585_region_frac.append(ssp585_reg_frac(min_lon,max_lon,min_lat,max_lat))\n",
    "    ssp126_region_frac.append(ssp126_reg_frac(min_lon,max_lon,min_lat,max_lat))\n"
   ]
  },
  {
   "cell_type": "code",
   "execution_count": 38,
   "id": "c2197b39",
   "metadata": {
    "ExecuteTime": {
     "end_time": "2024-08-07T13:55:12.751563Z",
     "start_time": "2024-08-07T13:55:12.742948Z"
    }
   },
   "outputs": [
    {
     "data": {
      "text/html": [
       "<div>\n",
       "<style scoped>\n",
       "    .dataframe tbody tr th:only-of-type {\n",
       "        vertical-align: middle;\n",
       "    }\n",
       "\n",
       "    .dataframe tbody tr th {\n",
       "        vertical-align: top;\n",
       "    }\n",
       "\n",
       "    .dataframe thead th {\n",
       "        text-align: right;\n",
       "    }\n",
       "</style>\n",
       "<table border=\"1\" class=\"dataframe\">\n",
       "  <thead>\n",
       "    <tr style=\"text-align: right;\">\n",
       "      <th></th>\n",
       "      <th>Hosing</th>\n",
       "      <th>4xCO2</th>\n",
       "      <th>SSP585</th>\n",
       "      <th>SSP126</th>\n",
       "    </tr>\n",
       "  </thead>\n",
       "  <tbody>\n",
       "    <tr>\n",
       "      <th>Global</th>\n",
       "      <td>0.66</td>\n",
       "      <td>0.65</td>\n",
       "      <td>0.66</td>\n",
       "      <td>0.60</td>\n",
       "    </tr>\n",
       "    <tr>\n",
       "      <th>No Poles</th>\n",
       "      <td>0.66</td>\n",
       "      <td>0.57</td>\n",
       "      <td>0.58</td>\n",
       "      <td>0.51</td>\n",
       "    </tr>\n",
       "    <tr>\n",
       "      <th>Extratropics</th>\n",
       "      <td>0.49</td>\n",
       "      <td>0.74</td>\n",
       "      <td>0.68</td>\n",
       "      <td>0.62</td>\n",
       "    </tr>\n",
       "    <tr>\n",
       "      <th>Tropics</th>\n",
       "      <td>0.64</td>\n",
       "      <td>0.40</td>\n",
       "      <td>0.53</td>\n",
       "      <td>0.40</td>\n",
       "    </tr>\n",
       "    <tr>\n",
       "      <th>S AM</th>\n",
       "      <td>0.79</td>\n",
       "      <td>0.15</td>\n",
       "      <td>0.27</td>\n",
       "      <td>0.03</td>\n",
       "    </tr>\n",
       "    <tr>\n",
       "      <th>N AM</th>\n",
       "      <td>0.18</td>\n",
       "      <td>0.68</td>\n",
       "      <td>0.61</td>\n",
       "      <td>0.36</td>\n",
       "    </tr>\n",
       "    <tr>\n",
       "      <th>WAM</th>\n",
       "      <td>0.99</td>\n",
       "      <td>0.15</td>\n",
       "      <td>0.48</td>\n",
       "      <td>0.24</td>\n",
       "    </tr>\n",
       "    <tr>\n",
       "      <th>ISM</th>\n",
       "      <td>0.95</td>\n",
       "      <td>0.75</td>\n",
       "      <td>0.80</td>\n",
       "      <td>0.74</td>\n",
       "    </tr>\n",
       "    <tr>\n",
       "      <th>EASM</th>\n",
       "      <td>0.71</td>\n",
       "      <td>0.73</td>\n",
       "      <td>0.96</td>\n",
       "      <td>0.70</td>\n",
       "    </tr>\n",
       "  </tbody>\n",
       "</table>\n",
       "</div>"
      ],
      "text/plain": [
       "              Hosing  4xCO2  SSP585  SSP126\n",
       "Global          0.66   0.65    0.66    0.60\n",
       "No Poles        0.66   0.57    0.58    0.51\n",
       "Extratropics    0.49   0.74    0.68    0.62\n",
       "Tropics         0.64   0.40    0.53    0.40\n",
       "S AM            0.79   0.15    0.27    0.03\n",
       "N AM            0.18   0.68    0.61    0.36\n",
       "WAM             0.99   0.15    0.48    0.24\n",
       "ISM             0.95   0.75    0.80    0.74\n",
       "EASM            0.71   0.73    0.96    0.70"
      ]
     },
     "metadata": {},
     "output_type": "display_data"
    }
   ],
   "source": [
    "df = pd.DataFrame(data=np.transpose(np.stack((region_frac,co2_region_frac,ssp585_region_frac,ssp126_region_frac))),index=region_names,columns = ['Hosing','4xCO2','SSP585','SSP126'])\n",
    "display(df)"
   ]
  },
  {
   "cell_type": "code",
   "execution_count": 39,
   "id": "98e730e3",
   "metadata": {
    "ExecuteTime": {
     "end_time": "2024-08-07T13:55:15.102160Z",
     "start_time": "2024-08-07T13:55:15.092947Z"
    }
   },
   "outputs": [],
   "source": [
    "df.to_csv('geographic_agreement.txt')"
   ]
  },
  {
   "cell_type": "markdown",
   "id": "9606bdde",
   "metadata": {},
   "source": [
    "## monthly"
   ]
  },
  {
   "cell_type": "code",
   "execution_count": 23,
   "id": "b46adf61",
   "metadata": {
    "ExecuteTime": {
     "end_time": "2024-08-07T15:58:47.352223Z",
     "start_time": "2024-08-07T15:58:34.917254Z"
    }
   },
   "outputs": [
    {
     "name": "stderr",
     "output_type": "stream",
     "text": [
      "/home/mayayami/.conda/envs/main/lib/python3.9/site-packages/xarray/coding/times.py:699: SerializationWarning: Unable to decode time axis into full numpy.datetime64 objects, continuing using cftime.datetime objects instead, reason: dates out of range\n",
      "  dtype = _decode_cf_datetime_dtype(data, units, calendar, self.use_cftime)\n",
      "/home/mayayami/.conda/envs/main/lib/python3.9/site-packages/xarray/coding/times.py:699: SerializationWarning: Unable to decode time axis into full numpy.datetime64 objects, continuing using cftime.datetime objects instead, reason: dates out of range\n",
      "  dtype = _decode_cf_datetime_dtype(data, units, calendar, self.use_cftime)\n",
      "/home/mayayami/.conda/envs/main/lib/python3.9/site-packages/xarray/core/indexing.py:524: SerializationWarning: Unable to decode time axis into full numpy.datetime64 objects, continuing using cftime.datetime objects instead, reason: dates out of range\n",
      "  return np.asarray(array[self.key], dtype=None)\n"
     ]
    }
   ],
   "source": [
    "mods = []\n",
    "for im, model in enumerate(model_names):        \n",
    "    adata = mavg(xr.open_dataset('/p/tmp/mayayami/NAHosMIP/{}/vars/aprcpm_Cgrid.nc'.format(model))[prcp_keys[model]][aslices[model][0]:aslices[model][1]])\n",
    "    cdata = mavg(xr.open_dataset('/p/tmp/mayayami/NAHosMIP/{}/vars/cprcpm_Cgrid.nc'.format(model))[prcp_keys[model]][cslices[model][0]:cslices[model][1]])\n",
    "    diff = cdata - adata\n",
    "    sgn = np.sign(diff)\n",
    "    mods.append(sgn)\n",
    "sn = mods[0]\n",
    "ag = mods[0].where((mods[1]==sn) & (mods[2]==sn) & (mods[3]==sn))\n",
    "mon_frac = ag.count(dim='month').fillna(0)"
   ]
  },
  {
   "cell_type": "code",
   "execution_count": 26,
   "id": "9b9325dd",
   "metadata": {
    "ExecuteTime": {
     "end_time": "2024-08-07T15:59:21.192664Z",
     "start_time": "2024-08-07T15:59:20.475611Z"
    }
   },
   "outputs": [],
   "source": [
    "mon_frac.to_netcdf('/p/tmp/mayayami/NAHosMIP/all_monthly_match.nc')"
   ]
  },
  {
   "cell_type": "code",
   "execution_count": 49,
   "id": "0f138cf4",
   "metadata": {
    "ExecuteTime": {
     "end_time": "2024-08-07T14:00:07.970521Z",
     "start_time": "2024-08-07T13:59:58.202168Z"
    }
   },
   "outputs": [
    {
     "name": "stderr",
     "output_type": "stream",
     "text": [
      "/home/mayayami/.conda/envs/main/lib/python3.9/site-packages/xarray/coding/times.py:699: SerializationWarning: Unable to decode time axis into full numpy.datetime64 objects, continuing using cftime.datetime objects instead, reason: dates out of range\n",
      "  dtype = _decode_cf_datetime_dtype(data, units, calendar, self.use_cftime)\n",
      "/home/mayayami/.conda/envs/main/lib/python3.9/site-packages/xarray/coding/times.py:699: SerializationWarning: Unable to decode time axis into full numpy.datetime64 objects, continuing using cftime.datetime objects instead, reason: dates out of range\n",
      "  dtype = _decode_cf_datetime_dtype(data, units, calendar, self.use_cftime)\n",
      "/home/mayayami/.conda/envs/main/lib/python3.9/site-packages/xarray/core/indexing.py:524: SerializationWarning: Unable to decode time axis into full numpy.datetime64 objects, continuing using cftime.datetime objects instead, reason: dates out of range\n",
      "  return np.asarray(array[self.key], dtype=None)\n",
      "/home/mayayami/.conda/envs/main/lib/python3.9/site-packages/xarray/coding/times.py:699: SerializationWarning: Unable to decode time axis into full numpy.datetime64 objects, continuing using cftime.datetime objects instead, reason: dates out of range\n",
      "  dtype = _decode_cf_datetime_dtype(data, units, calendar, self.use_cftime)\n",
      "/home/mayayami/.conda/envs/main/lib/python3.9/site-packages/xarray/coding/times.py:699: SerializationWarning: Unable to decode time axis into full numpy.datetime64 objects, continuing using cftime.datetime objects instead, reason: dates out of range\n",
      "  dtype = _decode_cf_datetime_dtype(data, units, calendar, self.use_cftime)\n",
      "/home/mayayami/.conda/envs/main/lib/python3.9/site-packages/xarray/core/indexing.py:524: SerializationWarning: Unable to decode time axis into full numpy.datetime64 objects, continuing using cftime.datetime objects instead, reason: dates out of range\n",
      "  return np.asarray(array[self.key], dtype=None)\n"
     ]
    }
   ],
   "source": [
    "mods = []\n",
    "for im, model in enumerate(model_names):        \n",
    "    adata = mavg(xr.open_dataset('/p/tmp/mayayami/NAHosMIP/{}/vars/aprcpm_Cgrid.nc'.format(model))[prcp_keys[model]][aslicesm[model][0]:aslicesm[model][1]])\n",
    "    cdata = mavg(xr.open_dataset('/p/tmp/mayayami/NAHosMIP/{}/4CO2_prcp_Cgrid.nc'.format(model)).pr[co2_slicesm[model][0]:co2_slicesm[model][1]]*86400)\n",
    "    diff = cdata - adata\n",
    "    sgn = np.sign(diff)\n",
    "    mods.append(sgn)\n",
    "sn = mods[0]\n",
    "ag_co2 = mods[0].where((mods[1]==sn) & (mods[2]==sn) & (mods[3]==sn))\n",
    "frac_co2 = ag_co2.count(dim='month')\n",
    "mon_frac_co2 = frac_co2.fillna(0)"
   ]
  },
  {
   "cell_type": "code",
   "execution_count": 50,
   "id": "6c00b6ad",
   "metadata": {
    "ExecuteTime": {
     "end_time": "2024-08-07T14:00:44.998061Z",
     "start_time": "2024-08-07T14:00:35.637479Z"
    }
   },
   "outputs": [
    {
     "name": "stderr",
     "output_type": "stream",
     "text": [
      "/home/mayayami/.conda/envs/main/lib/python3.9/site-packages/xarray/coding/times.py:699: SerializationWarning: Unable to decode time axis into full numpy.datetime64 objects, continuing using cftime.datetime objects instead, reason: dates out of range\n",
      "  dtype = _decode_cf_datetime_dtype(data, units, calendar, self.use_cftime)\n",
      "/home/mayayami/.conda/envs/main/lib/python3.9/site-packages/xarray/coding/times.py:699: SerializationWarning: Unable to decode time axis into full numpy.datetime64 objects, continuing using cftime.datetime objects instead, reason: dates out of range\n",
      "  dtype = _decode_cf_datetime_dtype(data, units, calendar, self.use_cftime)\n",
      "/home/mayayami/.conda/envs/main/lib/python3.9/site-packages/xarray/core/indexing.py:524: SerializationWarning: Unable to decode time axis into full numpy.datetime64 objects, continuing using cftime.datetime objects instead, reason: dates out of range\n",
      "  return np.asarray(array[self.key], dtype=None)\n",
      "/home/mayayami/.conda/envs/main/lib/python3.9/site-packages/xarray/coding/times.py:699: SerializationWarning: Unable to decode time axis into full numpy.datetime64 objects, continuing using cftime.datetime objects instead, reason: dates out of range\n",
      "  dtype = _decode_cf_datetime_dtype(data, units, calendar, self.use_cftime)\n",
      "/home/mayayami/.conda/envs/main/lib/python3.9/site-packages/xarray/coding/times.py:699: SerializationWarning: Unable to decode time axis into full numpy.datetime64 objects, continuing using cftime.datetime objects instead, reason: dates out of range\n",
      "  dtype = _decode_cf_datetime_dtype(data, units, calendar, self.use_cftime)\n",
      "/home/mayayami/.conda/envs/main/lib/python3.9/site-packages/xarray/core/indexing.py:524: SerializationWarning: Unable to decode time axis into full numpy.datetime64 objects, continuing using cftime.datetime objects instead, reason: dates out of range\n",
      "  return np.asarray(array[self.key], dtype=None)\n"
     ]
    }
   ],
   "source": [
    "mods = []\n",
    "for im, model in enumerate(model_names):        \n",
    "    adata = mavg(xr.open_dataset('/p/tmp/mayayami/NAHosMIP/{}/vars/aprcpm_Cgrid.nc'.format(model))[prcp_keys[model]][aslicesm[model][0]:aslicesm[model][1]])\n",
    "    ifiles = glob.glob('/p/tmp/mayayami/NAHosMIP/scenario_pr/pr_Amon_{}_ssp585_*_Cgrid.nc'.format(model_names2[im]))\n",
    "    for file in ifiles:\n",
    "        if 'ymean' not in file:\n",
    "            ifile=file\n",
    "    cdata = mavg((xr.open_dataset(ifile).pr*86400)[66*12:86*12])\n",
    "    diff = cdata - adata\n",
    "    sgn = np.sign(diff)\n",
    "    mods.append(sgn)\n",
    "sn = mods[0]\n",
    "ag_ssp585 = mods[0].where((mods[1]==sn) & (mods[2]==sn) & (mods[3]==sn))\n",
    "frac_ssp585 = ag_ssp585.count(dim='month')\n",
    "mon_frac_ssp585 = frac_ssp585.fillna(0)"
   ]
  },
  {
   "cell_type": "code",
   "execution_count": 51,
   "id": "f94e5f1c",
   "metadata": {
    "ExecuteTime": {
     "end_time": "2024-08-07T14:00:54.841688Z",
     "start_time": "2024-08-07T14:00:45.200465Z"
    }
   },
   "outputs": [
    {
     "name": "stdout",
     "output_type": "stream",
     "text": [
      "/p/tmp/mayayami/NAHosMIP/scenario_pr/pr_Amon_HadGEM3-GC31-MM_ssp126_r1i1p1f3_gn_Cgrid.nc\n",
      "/p/tmp/mayayami/NAHosMIP/scenario_pr/pr_Amon_CanESM5_ssp126_r1i1p1f1_gn_Cgrid.nc\n",
      "/p/tmp/mayayami/NAHosMIP/scenario_pr/pr_Amon_CESM2_ssp126_r4i1p1f1_gn_Cgrid.nc\n"
     ]
    },
    {
     "name": "stderr",
     "output_type": "stream",
     "text": [
      "/home/mayayami/.conda/envs/main/lib/python3.9/site-packages/xarray/coding/times.py:699: SerializationWarning: Unable to decode time axis into full numpy.datetime64 objects, continuing using cftime.datetime objects instead, reason: dates out of range\n",
      "  dtype = _decode_cf_datetime_dtype(data, units, calendar, self.use_cftime)\n",
      "/home/mayayami/.conda/envs/main/lib/python3.9/site-packages/xarray/coding/times.py:699: SerializationWarning: Unable to decode time axis into full numpy.datetime64 objects, continuing using cftime.datetime objects instead, reason: dates out of range\n",
      "  dtype = _decode_cf_datetime_dtype(data, units, calendar, self.use_cftime)\n",
      "/home/mayayami/.conda/envs/main/lib/python3.9/site-packages/xarray/core/indexing.py:524: SerializationWarning: Unable to decode time axis into full numpy.datetime64 objects, continuing using cftime.datetime objects instead, reason: dates out of range\n",
      "  return np.asarray(array[self.key], dtype=None)\n"
     ]
    },
    {
     "name": "stdout",
     "output_type": "stream",
     "text": [
      "/p/tmp/mayayami/NAHosMIP/scenario_pr/pr_Amon_IPSL-CM6A-LR_ssp126_r1i1p1f1_gr_Cgrid.nc\n"
     ]
    },
    {
     "name": "stderr",
     "output_type": "stream",
     "text": [
      "/home/mayayami/.conda/envs/main/lib/python3.9/site-packages/xarray/coding/times.py:699: SerializationWarning: Unable to decode time axis into full numpy.datetime64 objects, continuing using cftime.datetime objects instead, reason: dates out of range\n",
      "  dtype = _decode_cf_datetime_dtype(data, units, calendar, self.use_cftime)\n",
      "/home/mayayami/.conda/envs/main/lib/python3.9/site-packages/xarray/coding/times.py:699: SerializationWarning: Unable to decode time axis into full numpy.datetime64 objects, continuing using cftime.datetime objects instead, reason: dates out of range\n",
      "  dtype = _decode_cf_datetime_dtype(data, units, calendar, self.use_cftime)\n",
      "/home/mayayami/.conda/envs/main/lib/python3.9/site-packages/xarray/core/indexing.py:524: SerializationWarning: Unable to decode time axis into full numpy.datetime64 objects, continuing using cftime.datetime objects instead, reason: dates out of range\n",
      "  return np.asarray(array[self.key], dtype=None)\n"
     ]
    }
   ],
   "source": [
    "mods = []\n",
    "for im, model in enumerate(model_names):        \n",
    "    adata = mavg(xr.open_dataset('/p/tmp/mayayami/NAHosMIP/{}/vars/aprcpm_Cgrid.nc'.format(model))[prcp_keys[model]][aslicesm[model][0]:aslicesm[model][1]])\n",
    "    ifiles = glob.glob('/p/tmp/mayayami/NAHosMIP/scenario_pr/pr_Amon_{}_ssp126_*_Cgrid.nc'.format(model_names2[im]))\n",
    "    for file in ifiles:\n",
    "        if 'ymean' not in file:\n",
    "            ifile=file\n",
    "    print(ifile)\n",
    "    cdata = mavg((xr.open_dataset(ifile).pr*86400)[66*12:86*12])\n",
    "    diff = cdata - adata\n",
    "    sgn = np.sign(diff)\n",
    "    mods.append(sgn)\n",
    "sn = mods[0]\n",
    "ag_ssp126 = mods[0].where((mods[1]==sn) & (mods[2]==sn) & (mods[3]==sn))\n",
    "frac_ssp126 = ag_ssp126.count(dim='month')\n",
    "mon_frac_ssp126 = frac_ssp126.fillna(0)"
   ]
  },
  {
   "cell_type": "code",
   "execution_count": 52,
   "id": "b207928b",
   "metadata": {
    "ExecuteTime": {
     "end_time": "2024-08-07T14:05:16.224578Z",
     "start_time": "2024-08-07T14:05:16.214396Z"
    }
   },
   "outputs": [],
   "source": [
    "def co2_reg_mon_frac(min_lon,max_lon,min_lat,max_lat):\n",
    "    wghts = get_box2(weights,min_lon,max_lon,min_lat,max_lat,lon=True,drop=True)\n",
    "    wghts = wghts/wghts.mean()\n",
    "    frcs = get_box2(mon_frac_co2_cont,min_lon,max_lon,min_lat,max_lat,lon=True,drop=True)\n",
    "    return (wghts*frcs).mean().values/12\n",
    "def ssp585_reg_mon_frac(min_lon,max_lon,min_lat,max_lat):\n",
    "    wghts = get_box2(weights,min_lon,max_lon,min_lat,max_lat,lon=True,drop=True)\n",
    "    wghts = wghts/wghts.mean()\n",
    "    frcs = get_box2(mon_frac_ssp585_cont,min_lon,max_lon,min_lat,max_lat,lon=True,drop=True)\n",
    "    return (wghts*frcs).mean().values/12\n",
    "def ssp126_reg_mon_frac(min_lon,max_lon,min_lat,max_lat):\n",
    "    wghts = get_box2(weights,min_lon,max_lon,min_lat,max_lat,lon=True,drop=True)\n",
    "    wghts = wghts/wghts.mean()\n",
    "    frcs = get_box2(mon_frac_ssp126_cont,min_lon,max_lon,min_lat,max_lat,lon=True,drop=True)\n",
    "    return (wghts*frcs).mean().values/12\n",
    "def reg_mon_frac(min_lon,max_lon,min_lat,max_lat):\n",
    "    wghts = get_box2(weights,min_lon,max_lon,min_lat,max_lat,lon=True,drop=True)\n",
    "    wghts = wghts/wghts.mean()\n",
    "    frcs = get_box2(mon_frac_cont,min_lon,max_lon,min_lat,max_lat,lon=True,drop=True)\n",
    "    return (wghts*frcs).mean().values/12"
   ]
  },
  {
   "cell_type": "code",
   "execution_count": 53,
   "id": "7022cd4b",
   "metadata": {
    "ExecuteTime": {
     "end_time": "2024-08-07T14:05:17.503763Z",
     "start_time": "2024-08-07T14:05:17.476926Z"
    }
   },
   "outputs": [],
   "source": [
    "seamask = xr.open_dataset('/p/tmp/mayayami/NAHosMIP/{}/seamask_Cgrid.nc'.format('CanESM5')).topo\n",
    "mon_frac_cont = mon_frac*seamask\n",
    "mon_frac_co2_cont = mon_frac_co2*seamask\n",
    "mon_frac_ssp585_cont = mon_frac_ssp585*seamask\n",
    "mon_frac_ssp126_cont = mon_frac_ssp126*seamask"
   ]
  },
  {
   "cell_type": "code",
   "execution_count": 54,
   "id": "fddba604",
   "metadata": {
    "ExecuteTime": {
     "end_time": "2024-08-07T14:05:27.864476Z",
     "start_time": "2024-08-07T14:05:26.885386Z"
    }
   },
   "outputs": [],
   "source": [
    "mon_region_frac = []\n",
    "mon_co2_region_frac = []\n",
    "mon_ssp585_region_frac = []\n",
    "mon_ssp126_region_frac = []\n",
    "\n",
    "# global\n",
    "mon_region_frac.append((weights*mon_frac).mean().values/12)\n",
    "mon_co2_region_frac.append((weights*mon_frac_co2).mean().values/12)\n",
    "mon_ssp585_region_frac.append((weights*mon_frac_ssp585).mean().values/12)\n",
    "mon_ssp126_region_frac.append((weights*mon_frac_ssp126).mean().values/12)\n",
    "\n",
    "# no poles\n",
    "min_lon,max_lon,min_lat,max_lat = 0, 360, -60,60\n",
    "mon_region_frac.append(reg_mon_frac(min_lon,max_lon,min_lat,max_lat))\n",
    "mon_co2_region_frac.append(co2_reg_mon_frac(min_lon,max_lon,min_lat,max_lat))\n",
    "mon_ssp585_region_frac.append(ssp585_reg_mon_frac(min_lon,max_lon,min_lat,max_lat))\n",
    "mon_ssp126_region_frac.append(ssp126_reg_mon_frac(min_lon,max_lon,min_lat,max_lat))\n",
    "\n",
    "# extratropics\n",
    "min_lon1,max_lon1,min_lat1,max_lat1 = 0, 360, 30,60\n",
    "min_lon2,max_lon2,min_lat2,max_lat2 = 0, 360, -60,-30\n",
    "mon_region_frac.append((reg_mon_frac(min_lon1,max_lon1,min_lat1,max_lat1)+reg_mon_frac(min_lon2,max_lon2,min_lat2,max_lat2))/2)\n",
    "mon_co2_region_frac.append((co2_reg_mon_frac(min_lon1,max_lon1,min_lat1,max_lat1)+co2_reg_mon_frac(min_lon2,max_lon2,min_lat2,max_lat2))/2)\n",
    "mon_ssp585_region_frac.append((ssp585_reg_mon_frac(min_lon1,max_lon1,min_lat1,max_lat1)+ssp585_reg_mon_frac(min_lon2,max_lon2,min_lat2,max_lat2))/2)\n",
    "mon_ssp126_region_frac.append((ssp126_reg_mon_frac(min_lon1,max_lon1,min_lat1,max_lat1)+ssp126_reg_mon_frac(min_lon2,max_lon2,min_lat2,max_lat2))/2)\n",
    "\n",
    "#tropics\n",
    "min_lon,max_lon,min_lat,max_lat = 0, 360, -30,30\n",
    "mon_region_frac.append(reg_mon_frac(min_lon,max_lon,min_lat,max_lat))\n",
    "mon_co2_region_frac.append(co2_reg_mon_frac(min_lon,max_lon,min_lat,max_lat))\n",
    "mon_ssp585_region_frac.append(ssp585_reg_mon_frac(min_lon,max_lon,min_lat,max_lat))\n",
    "mon_ssp126_region_frac.append(ssp126_reg_mon_frac(min_lon,max_lon,min_lat,max_lat))\n",
    "\n",
    "#boxes\n",
    "for i, ibox in enumerate([0,8,9,10,11]):\n",
    "    box = list(boxes_dict.keys())[ibox]\n",
    "    latlon = boxes_dict[box]\n",
    "    min_lon = latlon[0]\n",
    "    max_lon = latlon[1]\n",
    "    min_lat = latlon[2]\n",
    "    max_lat = latlon[3]\n",
    "    mon_region_frac.append(reg_mon_frac(min_lon,max_lon,min_lat,max_lat))\n",
    "    mon_co2_region_frac.append(co2_reg_mon_frac(min_lon,max_lon,min_lat,max_lat))\n",
    "    mon_ssp585_region_frac.append(ssp585_reg_mon_frac(min_lon,max_lon,min_lat,max_lat))\n",
    "    mon_ssp126_region_frac.append(ssp126_reg_mon_frac(min_lon,max_lon,min_lat,max_lat))\n"
   ]
  },
  {
   "cell_type": "code",
   "execution_count": 55,
   "id": "605574f1",
   "metadata": {
    "ExecuteTime": {
     "end_time": "2024-08-07T14:05:27.875919Z",
     "start_time": "2024-08-07T14:05:27.868216Z"
    }
   },
   "outputs": [
    {
     "data": {
      "text/html": [
       "<div>\n",
       "<style scoped>\n",
       "    .dataframe tbody tr th:only-of-type {\n",
       "        vertical-align: middle;\n",
       "    }\n",
       "\n",
       "    .dataframe tbody tr th {\n",
       "        vertical-align: top;\n",
       "    }\n",
       "\n",
       "    .dataframe thead th {\n",
       "        text-align: right;\n",
       "    }\n",
       "</style>\n",
       "<table border=\"1\" class=\"dataframe\">\n",
       "  <thead>\n",
       "    <tr style=\"text-align: right;\">\n",
       "      <th></th>\n",
       "      <th>Hosing</th>\n",
       "      <th>4xCO2</th>\n",
       "      <th>SSP585</th>\n",
       "      <th>SSP126</th>\n",
       "    </tr>\n",
       "  </thead>\n",
       "  <tbody>\n",
       "    <tr>\n",
       "      <th>Global</th>\n",
       "      <td>0.35</td>\n",
       "      <td>0.52</td>\n",
       "      <td>0.49</td>\n",
       "      <td>0.33</td>\n",
       "    </tr>\n",
       "    <tr>\n",
       "      <th>No Poles</th>\n",
       "      <td>0.42</td>\n",
       "      <td>0.41</td>\n",
       "      <td>0.39</td>\n",
       "      <td>0.26</td>\n",
       "    </tr>\n",
       "    <tr>\n",
       "      <th>Extratropics</th>\n",
       "      <td>0.33</td>\n",
       "      <td>0.56</td>\n",
       "      <td>0.49</td>\n",
       "      <td>0.33</td>\n",
       "    </tr>\n",
       "    <tr>\n",
       "      <th>Tropics</th>\n",
       "      <td>0.40</td>\n",
       "      <td>0.31</td>\n",
       "      <td>0.30</td>\n",
       "      <td>0.21</td>\n",
       "    </tr>\n",
       "    <tr>\n",
       "      <th>S AM</th>\n",
       "      <td>0.60</td>\n",
       "      <td>0.05</td>\n",
       "      <td>0.09</td>\n",
       "      <td>0.08</td>\n",
       "    </tr>\n",
       "    <tr>\n",
       "      <th>N AM</th>\n",
       "      <td>0.73</td>\n",
       "      <td>0.32</td>\n",
       "      <td>0.30</td>\n",
       "      <td>0.15</td>\n",
       "    </tr>\n",
       "    <tr>\n",
       "      <th>WAM</th>\n",
       "      <td>0.65</td>\n",
       "      <td>0.17</td>\n",
       "      <td>0.21</td>\n",
       "      <td>0.13</td>\n",
       "    </tr>\n",
       "    <tr>\n",
       "      <th>ISM</th>\n",
       "      <td>0.44</td>\n",
       "      <td>0.30</td>\n",
       "      <td>0.34</td>\n",
       "      <td>0.12</td>\n",
       "    </tr>\n",
       "    <tr>\n",
       "      <th>EASM</th>\n",
       "      <td>0.26</td>\n",
       "      <td>0.50</td>\n",
       "      <td>0.36</td>\n",
       "      <td>0.21</td>\n",
       "    </tr>\n",
       "  </tbody>\n",
       "</table>\n",
       "</div>"
      ],
      "text/plain": [
       "              Hosing  4xCO2  SSP585  SSP126\n",
       "Global          0.35   0.52    0.49    0.33\n",
       "No Poles        0.42   0.41    0.39    0.26\n",
       "Extratropics    0.33   0.56    0.49    0.33\n",
       "Tropics         0.40   0.31    0.30    0.21\n",
       "S AM            0.60   0.05    0.09    0.08\n",
       "N AM            0.73   0.32    0.30    0.15\n",
       "WAM             0.65   0.17    0.21    0.13\n",
       "ISM             0.44   0.30    0.34    0.12\n",
       "EASM            0.26   0.50    0.36    0.21"
      ]
     },
     "metadata": {},
     "output_type": "display_data"
    }
   ],
   "source": [
    "df = pd.DataFrame(data=np.transpose(np.stack((mon_region_frac,mon_co2_region_frac,mon_ssp585_region_frac,mon_ssp126_region_frac))),index=region_names,columns = ['Hosing','4xCO2','SSP585','SSP126'])\n",
    "display(df)"
   ]
  },
  {
   "cell_type": "code",
   "execution_count": 56,
   "id": "43e734f2",
   "metadata": {
    "ExecuteTime": {
     "end_time": "2024-08-07T14:07:07.552883Z",
     "start_time": "2024-08-07T14:07:07.541397Z"
    }
   },
   "outputs": [],
   "source": [
    "df.to_csv('monthly_agreement.txt')"
   ]
  },
  {
   "cell_type": "markdown",
   "id": "c518241b",
   "metadata": {},
   "source": [
    "# correlation with HadGEM"
   ]
  },
  {
   "cell_type": "code",
   "execution_count": 13,
   "id": "12420e11",
   "metadata": {
    "ExecuteTime": {
     "end_time": "2024-08-07T15:16:04.598908Z",
     "start_time": "2024-08-07T15:16:03.624794Z"
    }
   },
   "outputs": [
    {
     "name": "stderr",
     "output_type": "stream",
     "text": [
      "/home/mayayami/.conda/envs/main/lib/python3.9/site-packages/xarray/coding/times.py:699: SerializationWarning: Unable to decode time axis into full numpy.datetime64 objects, continuing using cftime.datetime objects instead, reason: dates out of range\n",
      "  dtype = _decode_cf_datetime_dtype(data, units, calendar, self.use_cftime)\n",
      "/home/mayayami/.conda/envs/main/lib/python3.9/site-packages/xarray/coding/times.py:699: SerializationWarning: Unable to decode time axis into full numpy.datetime64 objects, continuing using cftime.datetime objects instead, reason: dates out of range\n",
      "  dtype = _decode_cf_datetime_dtype(data, units, calendar, self.use_cftime)\n",
      "/home/mayayami/.conda/envs/main/lib/python3.9/site-packages/xarray/core/indexing.py:524: SerializationWarning: Unable to decode time axis into full numpy.datetime64 objects, continuing using cftime.datetime objects instead, reason: dates out of range\n",
      "  return np.asarray(array[self.key], dtype=None)\n"
     ]
    }
   ],
   "source": [
    "aprcpy = {}\n",
    "cprcpy = {}\n",
    "diff_prcp = {}\n",
    "\n",
    "for model in model_names:\n",
    "    adata = xr.open_dataset('/p/tmp/mayayami/NAHosMIP/{}/vars/aprcpy.nc'.format(model))[prcp_keys[model]][aslicesy[model][0]:aslicesy[model][1]]\n",
    "    cdata = xr.open_dataset('/p/tmp/mayayami/NAHosMIP/{}/vars/cprcpy.nc'.format(model))[prcp_keys[model]][cslicesy[model][0]:cslicesy[model][1]]\n",
    "    \n",
    "    aprcpy[model]=adata\n",
    "    cprcpy[model]=cdata\n",
    "    diff_prcp[model]=(cdata.mean(dim='time'))-(adata.mean(dim='time'))"
   ]
  },
  {
   "cell_type": "code",
   "execution_count": 8,
   "id": "ff18fcbe",
   "metadata": {
    "ExecuteTime": {
     "end_time": "2024-08-07T15:14:56.722057Z",
     "start_time": "2024-08-07T15:14:53.849929Z"
    }
   },
   "outputs": [],
   "source": [
    "# sing HadGEM has the highest resolution grid, to correlate each model with HadGEM we have to regrid HadGEM to \n",
    "# the respective model grids\n",
    "grds = ['C','CE','I']\n",
    "aH_dgrid = {}\n",
    "cH_dgrid = {}\n",
    "diff_H_dgrid = {}\n",
    "\n",
    "for i,gr in enumerate(grds):\n",
    "    model = model_names[i+1]\n",
    "    adata = xr.open_dataset('/p/tmp/mayayami/NAHosMIP/HadGEM3-GC3-1MM/vars/aprcpm_{}grid.nc'.format(gr))[prcp_keys['HadGEM3-GC3-1MM']][aslicesm['HadGEM3-GC3-1MM'][0]:aslicesm['HadGEM3-GC3-1MM'][1]]\n",
    "    cdata = xr.open_dataset('/p/tmp/mayayami/NAHosMIP/HadGEM3-GC3-1MM/vars/cprcpm_{}grid.nc'.format(gr))[prcp_keys['HadGEM3-GC3-1MM']][cslicesm['HadGEM3-GC3-1MM'][0]:cslicesm['HadGEM3-GC3-1MM'][1]]\n",
    "\n",
    "    aH_dgrid[model]=adata\n",
    "    cH_dgrid[model]=cdata\n",
    "    diff_H_dgrid[model] = (cdata.mean(dim='time'))-(adata.mean(dim='time'))\n"
   ]
  },
  {
   "cell_type": "code",
   "execution_count": 9,
   "id": "a6fd91a8",
   "metadata": {
    "ExecuteTime": {
     "end_time": "2024-08-07T15:14:56.826660Z",
     "start_time": "2024-08-07T15:14:56.823009Z"
    },
    "init_cell": true
   },
   "outputs": [],
   "source": [
    "region_dict = {\n",
    "        'am':[360-85,360-30,-20,11],\n",
    "        'wam': [360-20,35,-10,25],\n",
    "        'ism': [70, 85, 5, 25],\n",
    "        'easm':[110,140,10,40]}"
   ]
  },
  {
   "cell_type": "code",
   "execution_count": 20,
   "id": "f25403ab",
   "metadata": {
    "ExecuteTime": {
     "end_time": "2024-08-07T15:31:08.202065Z",
     "start_time": "2024-08-07T15:31:04.239840Z"
    },
    "code_folding": [
     16
    ]
   },
   "outputs": [],
   "source": [
    "corrs = np.zeros((4,3,3)) # the axes are 0: regions, 1: models, 2: control/weak/diff\n",
    "for ir, reg in enumerate(list(region_dict.keys())):\n",
    "    region = region_dict[reg]\n",
    "    for im, model in enumerate(model_names[1:]):\n",
    "        ds1 = get_box3(aprcpy[model].mean(dim='time'),region,drop=True)\n",
    "        ds2 = get_box3((aH_dgrid[model]).mean(dim='time'),region,drop=True)\n",
    "        r = pearsonr(ds2.values.flatten(),ds1.values.flatten())\n",
    "        corrs[ir,im,0]=r[0]\n",
    "    for im, model in enumerate(model_names[1:]):\n",
    "        ds1 = get_box3(cprcpy[model].mean(dim='time'),region,drop=True)\n",
    "        ds2 = get_box3((cH_dgrid[model]).mean(dim='time'),region,drop=True)\n",
    "        r = pearsonr(ds2.values.flatten(),ds1.values.flatten())\n",
    "        corrs[ir,im,1]=r[0]\n",
    "    for im, model in enumerate(model_names[1:]):\n",
    "        ds1 = get_box3(diff_prcp[model],region,drop=True)\n",
    "        ds2 = get_box3(diff_H_dgrid[model],region,drop=True)\n",
    "        r = pearsonr(ds2.values.flatten(),ds1.values.flatten())\n",
    "        corrs[ir,im,2]=r[0]\n"
   ]
  },
  {
   "cell_type": "code",
   "execution_count": 21,
   "id": "180a1bb8",
   "metadata": {
    "ExecuteTime": {
     "end_time": "2024-08-07T15:31:08.389308Z",
     "start_time": "2024-08-07T15:31:08.369632Z"
    }
   },
   "outputs": [
    {
     "name": "stdout",
     "output_type": "stream",
     "text": [
      "\n",
      "------Control-------\n"
     ]
    },
    {
     "data": {
      "text/html": [
       "<div>\n",
       "<style scoped>\n",
       "    .dataframe tbody tr th:only-of-type {\n",
       "        vertical-align: middle;\n",
       "    }\n",
       "\n",
       "    .dataframe tbody tr th {\n",
       "        vertical-align: top;\n",
       "    }\n",
       "\n",
       "    .dataframe thead th {\n",
       "        text-align: right;\n",
       "    }\n",
       "</style>\n",
       "<table border=\"1\" class=\"dataframe\">\n",
       "  <thead>\n",
       "    <tr style=\"text-align: right;\">\n",
       "      <th></th>\n",
       "      <th>CanESM5</th>\n",
       "      <th>CESM2</th>\n",
       "      <th>IPSL-CM6A-LR</th>\n",
       "    </tr>\n",
       "  </thead>\n",
       "  <tbody>\n",
       "    <tr>\n",
       "      <th>am</th>\n",
       "      <td>0.59</td>\n",
       "      <td>0.83</td>\n",
       "      <td>0.68</td>\n",
       "    </tr>\n",
       "    <tr>\n",
       "      <th>wam</th>\n",
       "      <td>0.90</td>\n",
       "      <td>0.93</td>\n",
       "      <td>0.88</td>\n",
       "    </tr>\n",
       "    <tr>\n",
       "      <th>ism</th>\n",
       "      <td>0.81</td>\n",
       "      <td>0.85</td>\n",
       "      <td>0.62</td>\n",
       "    </tr>\n",
       "    <tr>\n",
       "      <th>easm</th>\n",
       "      <td>0.82</td>\n",
       "      <td>0.81</td>\n",
       "      <td>0.73</td>\n",
       "    </tr>\n",
       "  </tbody>\n",
       "</table>\n",
       "</div>"
      ],
      "text/plain": [
       "      CanESM5  CESM2  IPSL-CM6A-LR\n",
       "am       0.59   0.83          0.68\n",
       "wam      0.90   0.93          0.88\n",
       "ism      0.81   0.85          0.62\n",
       "easm     0.82   0.81          0.73"
      ]
     },
     "metadata": {},
     "output_type": "display_data"
    },
    {
     "name": "stdout",
     "output_type": "stream",
     "text": [
      "\n",
      "------Weak AMOC-------\n"
     ]
    },
    {
     "data": {
      "text/html": [
       "<div>\n",
       "<style scoped>\n",
       "    .dataframe tbody tr th:only-of-type {\n",
       "        vertical-align: middle;\n",
       "    }\n",
       "\n",
       "    .dataframe tbody tr th {\n",
       "        vertical-align: top;\n",
       "    }\n",
       "\n",
       "    .dataframe thead th {\n",
       "        text-align: right;\n",
       "    }\n",
       "</style>\n",
       "<table border=\"1\" class=\"dataframe\">\n",
       "  <thead>\n",
       "    <tr style=\"text-align: right;\">\n",
       "      <th></th>\n",
       "      <th>CanESM5</th>\n",
       "      <th>CESM2</th>\n",
       "      <th>IPSL-CM6A-LR</th>\n",
       "    </tr>\n",
       "  </thead>\n",
       "  <tbody>\n",
       "    <tr>\n",
       "      <th>am</th>\n",
       "      <td>0.56</td>\n",
       "      <td>0.82</td>\n",
       "      <td>0.67</td>\n",
       "    </tr>\n",
       "    <tr>\n",
       "      <th>wam</th>\n",
       "      <td>0.92</td>\n",
       "      <td>0.94</td>\n",
       "      <td>0.90</td>\n",
       "    </tr>\n",
       "    <tr>\n",
       "      <th>ism</th>\n",
       "      <td>0.89</td>\n",
       "      <td>0.91</td>\n",
       "      <td>0.70</td>\n",
       "    </tr>\n",
       "    <tr>\n",
       "      <th>easm</th>\n",
       "      <td>0.84</td>\n",
       "      <td>0.81</td>\n",
       "      <td>0.74</td>\n",
       "    </tr>\n",
       "  </tbody>\n",
       "</table>\n",
       "</div>"
      ],
      "text/plain": [
       "      CanESM5  CESM2  IPSL-CM6A-LR\n",
       "am       0.56   0.82          0.67\n",
       "wam      0.92   0.94          0.90\n",
       "ism      0.89   0.91          0.70\n",
       "easm     0.84   0.81          0.74"
      ]
     },
     "metadata": {},
     "output_type": "display_data"
    },
    {
     "name": "stdout",
     "output_type": "stream",
     "text": [
      "\n",
      "------Difference-------\n"
     ]
    },
    {
     "data": {
      "text/html": [
       "<div>\n",
       "<style scoped>\n",
       "    .dataframe tbody tr th:only-of-type {\n",
       "        vertical-align: middle;\n",
       "    }\n",
       "\n",
       "    .dataframe tbody tr th {\n",
       "        vertical-align: top;\n",
       "    }\n",
       "\n",
       "    .dataframe thead th {\n",
       "        text-align: right;\n",
       "    }\n",
       "</style>\n",
       "<table border=\"1\" class=\"dataframe\">\n",
       "  <thead>\n",
       "    <tr style=\"text-align: right;\">\n",
       "      <th></th>\n",
       "      <th>CanESM5</th>\n",
       "      <th>CESM2</th>\n",
       "      <th>IPSL-CM6A-LR</th>\n",
       "    </tr>\n",
       "  </thead>\n",
       "  <tbody>\n",
       "    <tr>\n",
       "      <th>am</th>\n",
       "      <td>0.69</td>\n",
       "      <td>0.84</td>\n",
       "      <td>0.69</td>\n",
       "    </tr>\n",
       "    <tr>\n",
       "      <th>wam</th>\n",
       "      <td>0.81</td>\n",
       "      <td>0.90</td>\n",
       "      <td>0.77</td>\n",
       "    </tr>\n",
       "    <tr>\n",
       "      <th>ism</th>\n",
       "      <td>0.39</td>\n",
       "      <td>0.48</td>\n",
       "      <td>-0.09</td>\n",
       "    </tr>\n",
       "    <tr>\n",
       "      <th>easm</th>\n",
       "      <td>0.44</td>\n",
       "      <td>0.17</td>\n",
       "      <td>-0.00</td>\n",
       "    </tr>\n",
       "  </tbody>\n",
       "</table>\n",
       "</div>"
      ],
      "text/plain": [
       "      CanESM5  CESM2  IPSL-CM6A-LR\n",
       "am       0.69   0.84          0.69\n",
       "wam      0.81   0.90          0.77\n",
       "ism      0.39   0.48         -0.09\n",
       "easm     0.44   0.17         -0.00"
      ]
     },
     "metadata": {},
     "output_type": "display_data"
    }
   ],
   "source": [
    "print('\\n------Control-------')\n",
    "df = pd.DataFrame(data=corrs[:,:,0],index=list(region_dict.keys()),columns=model_names[1:])\n",
    "display(df)\n",
    "\n",
    "print('\\n------Weak AMOC-------')\n",
    "df = pd.DataFrame(data=corrs[:,:,1],index=list(region_dict.keys()),columns=model_names[1:])\n",
    "display(df)\n",
    "\n",
    "print('\\n------Difference-------')\n",
    "df = pd.DataFrame(data=corrs[:,:,2],index=list(region_dict.keys()),columns=model_names[1:])\n",
    "display(df)"
   ]
  },
  {
   "cell_type": "code",
   "execution_count": 22,
   "id": "c62496b6",
   "metadata": {
    "ExecuteTime": {
     "end_time": "2024-08-07T15:31:08.560826Z",
     "start_time": "2024-08-07T15:31:08.552312Z"
    }
   },
   "outputs": [
    {
     "data": {
      "text/html": [
       "<div>\n",
       "<style scoped>\n",
       "    .dataframe tbody tr th:only-of-type {\n",
       "        vertical-align: middle;\n",
       "    }\n",
       "\n",
       "    .dataframe tbody tr th {\n",
       "        vertical-align: top;\n",
       "    }\n",
       "\n",
       "    .dataframe thead th {\n",
       "        text-align: right;\n",
       "    }\n",
       "</style>\n",
       "<table border=\"1\" class=\"dataframe\">\n",
       "  <thead>\n",
       "    <tr style=\"text-align: right;\">\n",
       "      <th></th>\n",
       "      <th>0</th>\n",
       "      <th>1</th>\n",
       "      <th>2</th>\n",
       "      <th>3</th>\n",
       "      <th>4</th>\n",
       "      <th>5</th>\n",
       "      <th>6</th>\n",
       "      <th>7</th>\n",
       "      <th>8</th>\n",
       "    </tr>\n",
       "  </thead>\n",
       "  <tbody>\n",
       "    <tr>\n",
       "      <th>am</th>\n",
       "      <td>0.59</td>\n",
       "      <td>0.56</td>\n",
       "      <td>0.69</td>\n",
       "      <td>0.83</td>\n",
       "      <td>0.82</td>\n",
       "      <td>0.84</td>\n",
       "      <td>0.68</td>\n",
       "      <td>0.67</td>\n",
       "      <td>0.69</td>\n",
       "    </tr>\n",
       "    <tr>\n",
       "      <th>wam</th>\n",
       "      <td>0.90</td>\n",
       "      <td>0.92</td>\n",
       "      <td>0.81</td>\n",
       "      <td>0.93</td>\n",
       "      <td>0.94</td>\n",
       "      <td>0.90</td>\n",
       "      <td>0.88</td>\n",
       "      <td>0.90</td>\n",
       "      <td>0.77</td>\n",
       "    </tr>\n",
       "    <tr>\n",
       "      <th>ism</th>\n",
       "      <td>0.81</td>\n",
       "      <td>0.89</td>\n",
       "      <td>0.39</td>\n",
       "      <td>0.85</td>\n",
       "      <td>0.91</td>\n",
       "      <td>0.48</td>\n",
       "      <td>0.62</td>\n",
       "      <td>0.70</td>\n",
       "      <td>-0.09</td>\n",
       "    </tr>\n",
       "    <tr>\n",
       "      <th>easm</th>\n",
       "      <td>0.82</td>\n",
       "      <td>0.84</td>\n",
       "      <td>0.44</td>\n",
       "      <td>0.81</td>\n",
       "      <td>0.81</td>\n",
       "      <td>0.17</td>\n",
       "      <td>0.73</td>\n",
       "      <td>0.74</td>\n",
       "      <td>-0.00</td>\n",
       "    </tr>\n",
       "  </tbody>\n",
       "</table>\n",
       "</div>"
      ],
      "text/plain": [
       "        0    1    2    3    4    5    6    7     8\n",
       "am   0.59 0.56 0.69 0.83 0.82 0.84 0.68 0.67  0.69\n",
       "wam  0.90 0.92 0.81 0.93 0.94 0.90 0.88 0.90  0.77\n",
       "ism  0.81 0.89 0.39 0.85 0.91 0.48 0.62 0.70 -0.09\n",
       "easm 0.82 0.84 0.44 0.81 0.81 0.17 0.73 0.74 -0.00"
      ]
     },
     "metadata": {},
     "output_type": "display_data"
    }
   ],
   "source": [
    "df = pd.DataFrame(np.concatenate((corrs[:,0,:],corrs[:,1,:],corrs[:,2,:]),axis=1),index=region_dict.keys())\n",
    "display(df)"
   ]
  },
  {
   "cell_type": "code",
   "execution_count": null,
   "id": "6879afa0",
   "metadata": {},
   "outputs": [],
   "source": []
  }
 ],
 "metadata": {
  "hide_input": false,
  "kernelspec": {
   "display_name": "Python 3 (ipykernel)",
   "language": "python",
   "name": "python3"
  },
  "language_info": {
   "codemirror_mode": {
    "name": "ipython",
    "version": 3
   },
   "file_extension": ".py",
   "mimetype": "text/x-python",
   "name": "python",
   "nbconvert_exporter": "python",
   "pygments_lexer": "ipython3",
   "version": "3.9.16"
  },
  "toc": {
   "base_numbering": 1,
   "nav_menu": {},
   "number_sections": true,
   "sideBar": true,
   "skip_h1_title": false,
   "title_cell": "Table of Contents",
   "title_sidebar": "Contents",
   "toc_cell": false,
   "toc_position": {
    "height": "calc(100% - 180px)",
    "left": "10px",
    "top": "150px",
    "width": "279px"
   },
   "toc_section_display": true,
   "toc_window_display": true
  },
  "varInspector": {
   "cols": {
    "lenName": 16,
    "lenType": 16,
    "lenVar": 40
   },
   "kernels_config": {
    "python": {
     "delete_cmd_postfix": "",
     "delete_cmd_prefix": "del ",
     "library": "var_list.py",
     "varRefreshCmd": "print(var_dic_list())"
    },
    "r": {
     "delete_cmd_postfix": ") ",
     "delete_cmd_prefix": "rm(",
     "library": "var_list.r",
     "varRefreshCmd": "cat(var_dic_list()) "
    }
   },
   "types_to_exclude": [
    "module",
    "function",
    "builtin_function_or_method",
    "instance",
    "_Feature"
   ],
   "window_display": false
  }
 },
 "nbformat": 4,
 "nbformat_minor": 5
}
